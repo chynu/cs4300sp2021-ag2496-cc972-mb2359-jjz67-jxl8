{
 "cells": [
  {
   "cell_type": "code",
   "execution_count": 3,
   "id": "df4eba56-123f-4da7-bcc7-1dc2cdb2aeac",
   "metadata": {},
   "outputs": [],
   "source": [
    "import numpy as np\n",
    "import json\n",
    "import pandas as pd\n",
    "%matplotlib inline\n",
    "import matplotlib.pyplot as plt"
   ]
  },
  {
   "cell_type": "code",
   "execution_count": 60,
   "id": "ab869c32-d6bd-4e35-87be-dc917f4ffea8",
   "metadata": {},
   "outputs": [],
   "source": [
    "def build_genre_sims_jac(num_artists, input_data):\n",
    "    \"\"\"Returns a matrix of size num_artists x num_artists where entry [i,j]\n",
    "       should be the Jaccard similarity between the category sets for artists i and j. \n",
    "        \n",
    "    Notes: \n",
    "        - Artists sometimes contain *duplicate* genres! You should only count a category once.\n",
    "        - An artist should have a Jaccard similarity of 1.0 with itself.\n",
    "        - If a artist has no genres, then its Jaccard similarity with other movies is 0.\n",
    "    \n",
    "    Params: {num_artists: Integer,\n",
    "             input_data: List<Dictionary>}\n",
    "    Returns: np.ndarray \n",
    "    \"\"\"\n",
    "    jac_matrix = np.zeros((num_artists,num_artists))\n",
    "    for i in range(num_artists):\n",
    "        for j in range(num_artists):\n",
    "            if i == j:\n",
    "                jac_matrix[i][j] = 1.0\n",
    "            else:\n",
    "                genres_i = set(input_data[i])\n",
    "                genres_j = set(input_data[j])\n",
    "                if genres_i != set() and genres_j != set():\n",
    "                    jac_matrix[i][j] = len(genres_i.intersection(genres_j)) / len(genres_i.union(genres_j))\n",
    "    return jac_matrix"
   ]
  },
  {
   "cell_type": "code",
   "execution_count": 61,
   "id": "c655701a-1909-45d6-b4f2-b76a79e0c6ba",
   "metadata": {},
   "outputs": [],
   "source": [
    "df = pd.read_csv('compiled-w-songs-filtered.csv', delimiter=',')"
   ]
  },
  {
   "cell_type": "code",
   "execution_count": 62,
   "id": "2a564736-908b-4941-9f0e-1d58f1e57255",
   "metadata": {},
   "outputs": [],
   "source": [
    "duplicate = df[df.duplicated('Songs')]"
   ]
  },
  {
   "cell_type": "code",
   "execution_count": 63,
   "id": "8b9e72ca-27a2-491d-9c99-260710315c5d",
   "metadata": {},
   "outputs": [],
   "source": [
    "duplicate = duplicate.sort_values('Songs', ascending=True)"
   ]
  },
  {
   "cell_type": "code",
   "execution_count": 64,
   "id": "222db791-ab87-42eb-b213-e1a46986d04a",
   "metadata": {},
   "outputs": [],
   "source": [
    "duplicate.to_csv('duplicates.csv')"
   ]
  },
  {
   "cell_type": "code",
   "execution_count": 65,
   "id": "cbbdd580-b368-4dd2-89d8-fcbacbf65e76",
   "metadata": {},
   "outputs": [],
   "source": [
    "genres_list = []\n",
    "for index, row in df.iterrows():\n",
    "    genres_str = row['Genres'][1:-1]\n",
    "    genres = genres_str.split(\"', '\")\n",
    "    for i in range(len(genres)):\n",
    "        genres[i] = genres[i].strip(\" ''\")\n",
    "    genres_list.append(genres)"
   ]
  },
  {
   "cell_type": "code",
   "execution_count": 67,
   "id": "890d0b38-0073-4fcf-b89e-b481ac2880d6",
   "metadata": {},
   "outputs": [],
   "source": [
    "jaccard = build_genre_sims_jac(len(genres_list), genres_list)"
   ]
  },
  {
   "cell_type": "code",
   "execution_count": null,
   "id": "d5c46e3b-c3cf-44d7-9099-0ff1fd670469",
   "metadata": {},
   "outputs": [],
   "source": []
  }
 ],
 "metadata": {
  "kernelspec": {
   "display_name": "project4300",
   "language": "python",
   "name": "project4300-venv"
  },
  "language_info": {
   "codemirror_mode": {
    "name": "ipython",
    "version": 3
   },
   "file_extension": ".py",
   "mimetype": "text/x-python",
   "name": "python",
   "nbconvert_exporter": "python",
   "pygments_lexer": "ipython3",
   "version": "3.7.6"
  }
 },
 "nbformat": 4,
 "nbformat_minor": 5
}
