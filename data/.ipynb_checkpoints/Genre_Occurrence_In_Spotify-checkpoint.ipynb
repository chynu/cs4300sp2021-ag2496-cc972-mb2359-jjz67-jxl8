{
 "cells": [
  {
   "cell_type": "markdown",
   "metadata": {},
   "source": [
    "# Genre Data from Kaggle Dataset"
   ]
  },
  {
   "cell_type": "markdown",
   "metadata": {},
   "source": [
    "This jupyter notebook explores the genre data from the Kaggle dataset, which was derived from Spotify."
   ]
  },
  {
   "cell_type": "markdown",
   "metadata": {},
   "source": [
    "### Load & Clean Up Data"
   ]
  },
  {
   "cell_type": "code",
   "execution_count": 12,
   "metadata": {},
   "outputs": [],
   "source": [
    "import numpy as np\n",
    "import csv\n",
    "import re\n",
    "%matplotlib inline\n",
    "import matplotlib.pyplot as plt\n",
    "import collections\n",
    "import seaborn as sns"
   ]
  },
  {
   "cell_type": "code",
   "execution_count": 2,
   "metadata": {},
   "outputs": [],
   "source": [
    "def unpack_kaggle_csv(filename):\n",
    "    with open(filename) as f:\n",
    "        # Get reader object\n",
    "        reader = csv.reader(f, delimiter=\",\")\n",
    "        \n",
    "        # Get title row\n",
    "        headings = next(reader)\n",
    "        headings_dict = {i:t for i,t in enumerate(headings)}\n",
    "        \n",
    "        unpacked_dict = {}\n",
    "        \n",
    "        for row in reader:\n",
    "            title = row[0]\n",
    "            unpacked_dict[title] = {}\n",
    "            for i,item in enumerate(row):\n",
    "                unpacked_dict[title][headings_dict[i]] = item\n",
    "\n",
    "        return unpacked_dict"
   ]
  },
  {
   "cell_type": "code",
   "execution_count": 3,
   "metadata": {},
   "outputs": [],
   "source": [
    "w_genres_data = unpack_kaggle_csv('data_w_genres_o.csv')"
   ]
  },
  {
   "cell_type": "markdown",
   "metadata": {},
   "source": [
    "### Create Useful Data Structures"
   ]
  },
  {
   "cell_type": "code",
   "execution_count": 4,
   "metadata": {},
   "outputs": [],
   "source": [
    "\"\"\"\n",
    "    Important variables:\n",
    "    - ALL_GENRES: a set of all unique genres in the spotify ds\n",
    "    - ALL_GENRE_GROUPINGS: a list of genre groupings (which is a list of strings), \n",
    "                           to record what genres often appear with other genres\n",
    "    - GENRE_COUNTER: a Counter object of how many times each genre appears in the genre groupings\n",
    "\"\"\"\n",
    "\n",
    "ALL_GENRES = set([])\n",
    "all_genres_w_repeats = []\n",
    "ALL_GENRE_GROUPINGS = []\n",
    "\n",
    "for glist in w_genres_data.keys():\n",
    "    genre_list = re.split(', ', re.sub('(\\[|\\]|\\')', '', glist))\n",
    "    if len(genre_list) > 0 and genre_list[0] != '':\n",
    "        ALL_GENRE_GROUPINGS.append(genre_list)\n",
    "        all_genres_w_repeats.extend(genre_list)\n",
    "\n",
    "for grouping in ALL_GENRE_GROUPINGS:\n",
    "    for genre in grouping:\n",
    "        if genre != '': ALL_GENRES.add(genre)\n",
    "\n",
    "GENRE_COUNTER = collections.Counter(all_genres_w_repeats)"
   ]
  },
  {
   "cell_type": "markdown",
   "metadata": {},
   "source": [
    "Below are the 10 most common genres that appear with other genres."
   ]
  },
  {
   "cell_type": "code",
   "execution_count": 5,
   "metadata": {},
   "outputs": [
    {
     "name": "stdout",
     "output_type": "stream",
     "text": [
      "[('rock', 502), ('dance pop', 405), ('pop', 387), ('hip hop', 381), ('rap', 372), ('pop rap', 335), ('modern rock', 327), ('folk rock', 326), ('country rock', 311), ('mellow gold', 297)]\n"
     ]
    }
   ],
   "source": [
    "print(GENRE_COUNTER.most_common(10))"
   ]
  },
  {
   "cell_type": "code",
   "execution_count": 6,
   "metadata": {},
   "outputs": [
    {
     "name": "stdout",
     "output_type": "stream",
     "text": [
      "n_genres 2972\n",
      "n_groupings 10742\n"
     ]
    }
   ],
   "source": [
    "genre_to_index = {g:i for i,g in enumerate(ALL_GENRES)}\n",
    "index_to_genre = {i:g for i,g in enumerate(ALL_GENRES)}\n",
    "n_genres = len(ALL_GENRES)\n",
    "n_groupings = len(ALL_GENRE_GROUPINGS)\n",
    "\n",
    "print(\"n_genres\", n_genres)\n",
    "print(\"n_groupings\", n_groupings)"
   ]
  },
  {
   "cell_type": "markdown",
   "metadata": {},
   "source": [
    "### Term-Frequency Matrix (for Genres / genre groupings)"
   ]
  },
  {
   "cell_type": "code",
   "execution_count": 7,
   "metadata": {
    "scrolled": false
   },
   "outputs": [
    {
     "name": "stdout",
     "output_type": "stream",
     "text": [
      "Sum by genre (total appearances in a grouping, by genre)\n",
      "2972 [24. 76. 30. ...  3. 22.  1.]\n",
      "\n",
      "Sum by genre grouping (total genres per grouping\n",
      "10742 [1. 3. 5. ... 2. 4. 2.]\n",
      "\n",
      "Top 10 most frequent genres\n",
      "[('rock', 502), ('dance pop', 405), ('pop', 387), ('hip hop', 381), ('rap', 372), ('pop rap', 335), ('modern rock', 327), ('folk rock', 326), ('country rock', 311), ('pop rock', 297)]\n"
     ]
    }
   ],
   "source": [
    "genre_tf_matrix = np.zeros((n_groupings,n_genres))\n",
    "\n",
    "for i,grouping in enumerate(ALL_GENRE_GROUPINGS):\n",
    "    for genre in grouping:\n",
    "        genre_tf_matrix[i][genre_to_index[genre]] = 1\n",
    "\n",
    "# Sum by genre (total appearances in a grouping, by genre)\n",
    "print(\"Sum by genre (total appearances in a grouping, by genre)\")\n",
    "tf_genre_sum = genre_tf_matrix.sum(axis=0)\n",
    "print(len(tf_genre_sum), tf_genre_sum)\n",
    "print()\n",
    "\n",
    "# Sum by genre grouping (total genres per grouping)\n",
    "print(\"Sum by genre grouping (total genres per grouping\")\n",
    "print(len(genre_tf_matrix.sum(axis=1)), genre_tf_matrix.sum(axis=1))\n",
    "print()\n",
    "\n",
    "# Top 10 most frequent genres\n",
    "print(\"Top 10 most frequent genres\")\n",
    "sorted_idx = np.argsort(tf_genre_sum)[::-1][:10] # Indices of most frequent genres\n",
    "top_10 = [(index_to_genre[idx],int(tf_genre_sum[idx])) for idx in sorted_idx]\n",
    "print(top_10)"
   ]
  },
  {
   "cell_type": "code",
   "execution_count": 8,
   "metadata": {},
   "outputs": [
    {
     "data": {
      "text/plain": [
       "(10742, 2972)"
      ]
     },
     "execution_count": 8,
     "metadata": {},
     "output_type": "execute_result"
    }
   ],
   "source": [
    "genre_tf_matrix.shape"
   ]
  },
  {
   "cell_type": "markdown",
   "metadata": {},
   "source": [
    "### Co-Occurrence Matrix of Genres"
   ]
  },
  {
   "cell_type": "code",
   "execution_count": 9,
   "metadata": {},
   "outputs": [],
   "source": [
    "# Co-occurrence matrix\n",
    "def get_co_mtx(input_tf_mtx, top_n=None):\n",
    "    if top_n == None:\n",
    "        top_n = input_tf_mtx.shape[1]\n",
    "    input_sorted_indices = np.argsort(input_tf_mtx.sum(axis=0))[::-1][:top_n] # Indices of most frequent genres\n",
    "    \n",
    "    submtx = genre_tf_matrix[np.ix_(input_sorted_indices,input_sorted_indices)]\n",
    "    return np.dot(submtx.T, submtx)"
   ]
  },
  {
   "cell_type": "code",
   "execution_count": 14,
   "metadata": {},
   "outputs": [
    {
     "data": {
      "text/plain": [
       "<AxesSubplot:>"
      ]
     },
     "execution_count": 14,
     "metadata": {},
     "output_type": "execute_result"
    },
    {
     "data": {
      "image/png": "[encoded data removed]",
      "text/plain": [
       "<Figure size 432x288 with 2 Axes>"
      ]
     },
     "metadata": {
      "needs_background": "light"
     },
     "output_type": "display_data"
    }
   ],
   "source": [
    "# top 50\n",
    "sns.heatmap(get_co_mtx(genre_tf_matrix, top_n=50))"
   ]
  },
  {
   "cell_type": "code",
   "execution_count": 15,
   "metadata": {},
   "outputs": [
    {
     "data": {
      "text/plain": [
       "<AxesSubplot:>"
      ]
     },
     "execution_count": 15,
     "metadata": {},
     "output_type": "execute_result"
    },
    {
     "data": {
      "image/png": "[encoded data removed]",
      "text/plain": [
       "<Figure size 432x288 with 2 Axes>"
      ]
     },
     "metadata": {
      "needs_background": "light"
     },
     "output_type": "display_data"
    }
   ],
   "source": [
    "# top 10\n",
    "sns.heatmap(get_co_mtx(genre_tf_matrix, top_n=20), annot=True)"
   ]
  },
  {
   "cell_type": "code",
   "execution_count": null,
   "metadata": {},
   "outputs": [],
   "source": []
  }
 ],
 "metadata": {
  "kernelspec": {
   "display_name": "singerenv",
   "language": "python",
   "name": "singerenv"
  },
  "language_info": {
   "codemirror_mode": {
    "name": "ipython",
    "version": 3
   },
   "file_extension": ".py",
   "mimetype": "text/x-python",
   "name": "python",
   "nbconvert_exporter": "python",
   "pygments_lexer": "ipython3",
   "version": "3.7.6"
  }
 },
 "nbformat": 4,
 "nbformat_minor": 4
}
