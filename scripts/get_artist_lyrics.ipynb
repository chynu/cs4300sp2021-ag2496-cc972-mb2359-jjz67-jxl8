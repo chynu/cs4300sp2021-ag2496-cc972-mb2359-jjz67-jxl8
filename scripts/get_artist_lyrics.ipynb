{
 "cells": [
  {
   "cell_type": "code",
   "execution_count": 12,
   "metadata": {},
   "outputs": [],
   "source": [
    "import numpy as np\n",
    "import csv\n",
    "import re\n",
    "import json"
   ]
  },
  {
   "cell_type": "code",
   "execution_count": 13,
   "metadata": {},
   "outputs": [],
   "source": [
    "from lyricsgenius import Genius\n",
    "import pandas as pd\n",
    "from sklearn.feature_extraction.text import TfidfVectorizer\n",
    "from scipy.sparse.linalg import svds"
   ]
  },
  {
   "cell_type": "code",
   "execution_count": 14,
   "metadata": {},
   "outputs": [],
   "source": [
    "token = 'M4ryjx_Lsw6ivDYBJDstefp269uJrax2fYcntlBjYDRvH70j0jNrj67xaE8q66M0'\n",
    "genius = Genius(token, remove_section_headers=True, timeout=20)\n",
    "genius.remove_section_headers = True"
   ]
  },
  {
   "cell_type": "code",
   "execution_count": 25,
   "metadata": {},
   "outputs": [],
   "source": [
    "df = pd.read_csv('../removed_dups_new.csv')\n",
    "\n",
    "df = df.iloc[1606] # plug in numbers\n",
    "artists = df[['artists', 'songs']]"
   ]
  },
  {
   "cell_type": "code",
   "execution_count": 26,
   "metadata": {},
   "outputs": [],
   "source": [
    "artists_songs = {artists['artists']: artists['songs'].replace('\"', \"'\").strip(\"'[]\").split(\"', '\")}"
   ]
  },
  {
   "cell_type": "code",
   "execution_count": 16,
   "metadata": {},
   "outputs": [],
   "source": [
    "artists_songs = dict(zip(artists['artists'], artists['songs']))\n",
    "for artist in artists_songs:\n",
    "    songs = artists_songs[artist].replace('\"', \"'\").strip(\"'[]\").split(\"', '\")\n",
    "    artists_songs[artist] = songs"
   ]
  },
  {
   "cell_type": "code",
   "execution_count": 27,
   "metadata": {},
   "outputs": [
    {
     "name": "stdout",
     "output_type": "stream",
     "text": [
      "Searching for \"Say You Love Me\" by Jessie Ware...\n",
      "Done.\n",
      "Searching for \"What’s Your Pleasure?\" by Jessie Ware...\n",
      "Done.\n",
      "Searching for \"Spotlight\" by Jessie Ware...\n",
      "Done.\n",
      "Searching for \"Remember Where You Are\" by Jessie Ware...\n",
      "Done.\n",
      "Searching for \"Soul Control\" by Jessie Ware...\n",
      "Done.\n",
      "Searching for \"Save A Kiss\" by Jessie Ware...\n",
      "Done.\n",
      "Searching for \"Ooh La La\" by Jessie Ware...\n",
      "Done.\n",
      "Searching for \"Meet Me In The Middle - From The 'Fifty Shades Of Grey' Soundtrack\" by Jessie Ware...\n",
      "No results found for: 'Meet Me In The Middle - From The 'Fifty Shades Of Grey' Soundtrack Jessie Ware'\n",
      "Searching for \"Spotlight - Single Edit\" by Jessie Ware...\n",
      "Done.\n",
      "Searching for \"Alone\" by Jessie Ware...\n",
      "Done.\n"
     ]
    }
   ],
   "source": [
    "song_lyrics = {}\n",
    "artists = list(artists_songs)\n",
    "\n",
    "for artist in artists:\n",
    "    song_info = []\n",
    "    for song in artists_songs[artist]:\n",
    "        try:\n",
    "            song_info.append(genius.search_song(song, artist=artist))\n",
    "        except Exception as e:\n",
    "            print(song, artist, e)\n",
    "    song_lyrics[artist] = song_info"
   ]
  },
  {
   "cell_type": "code",
   "execution_count": 28,
   "metadata": {},
   "outputs": [],
   "source": [
    "artist_documents = {}\n",
    "\n",
    "for artist in song_lyrics:\n",
    "    all_lyrics = \"\"\n",
    "    for song in song_lyrics[artist]:\n",
    "        if song != None:\n",
    "            all_lyrics += song.lyrics\n",
    "    artist_documents[artist] = all_lyrics"
   ]
  },
  {
   "cell_type": "code",
   "execution_count": 11,
   "metadata": {},
   "outputs": [],
   "source": [
    "with open('artist_lyrics_0-883.json', 'w') as outfile: # plug in numbers\n",
    "    json.dump(artist_documents, outfile)"
   ]
  },
  {
   "cell_type": "code",
   "execution_count": 33,
   "metadata": {},
   "outputs": [],
   "source": [
    "artist_lyrics_804_1606 = {}\n",
    "with open('artist_lyrics_804-1606.json') as file:\n",
    "    artist_lyrics_804_1606 = json.load(file)\n",
    "\n",
    "artist_lyrics_804_1606.update(artist_documents)\n",
    "with open('artist_lyrics_804-1606.json', 'w') as file:\n",
    "    json.dump(artist_lyrics_804_1606, file)"
   ]
  },
  {
   "cell_type": "code",
   "execution_count": null,
   "metadata": {},
   "outputs": [],
   "source": []
  }
 ],
 "metadata": {
  "kernelspec": {
   "display_name": "project4300",
   "language": "python",
   "name": "project4300-venv"
  },
  "language_info": {
   "codemirror_mode": {
    "name": "ipython",
    "version": 3
   },
   "file_extension": ".py",
   "mimetype": "text/x-python",
   "name": "python",
   "nbconvert_exporter": "python",
   "pygments_lexer": "ipython3",
   "version": "3.7.6"
  }
 },
 "nbformat": 4,
 "nbformat_minor": 4
}
