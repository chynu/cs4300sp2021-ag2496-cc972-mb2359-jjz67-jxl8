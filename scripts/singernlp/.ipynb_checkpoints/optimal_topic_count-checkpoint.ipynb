{
 "cells": [
  {
   "cell_type": "markdown",
   "id": "7e53c4ee",
   "metadata": {},
   "source": [
    "## Finding the Optimal Topic Count\n",
    "\n",
    "Source: https://stackoverflow.com/questions/32313062/what-is-the-best-way-to-obtain-the-optimal-number-of-topics-for-a-lda-model-usin"
   ]
  },
  {
   "cell_type": "code",
   "execution_count": 12,
   "id": "689b9496",
   "metadata": {},
   "outputs": [
    {
     "ename": "ImportError",
     "evalue": "attempted relative import with no known parent package",
     "output_type": "error",
     "traceback": [
      "\u001b[0;31m---------------------------------------------------------------------------\u001b[0m",
      "\u001b[0;31mImportError\u001b[0m                               Traceback (most recent call last)",
      "\u001b[0;32m<ipython-input-12-35c9f4ae80d6>\u001b[0m in \u001b[0;36m<module>\u001b[0;34m\u001b[0m\n\u001b[0;32m----> 1\u001b[0;31m \u001b[0;32mfrom\u001b[0m \u001b[0;34m.\u001b[0m\u001b[0;34m.\u001b[0m\u001b[0msingernlp\u001b[0m\u001b[0;34m.\u001b[0m\u001b[0mArtistReviewAnalyzer\u001b[0m \u001b[0;32mimport\u001b[0m \u001b[0mArtistReviewAnalyzer\u001b[0m\u001b[0;34m\u001b[0m\u001b[0;34m\u001b[0m\u001b[0m\n\u001b[0m",
      "\u001b[0;31mImportError\u001b[0m: attempted relative import with no known parent package"
     ]
    }
   ],
   "source": [
    "from ..singernlp.ArtistReviewAnalyzer import ArtistReviewAnalyzer"
   ]
  },
  {
   "cell_type": "code",
   "execution_count": null,
   "id": "13966e36",
   "metadata": {},
   "outputs": [],
   "source": [
    "from pprint import pprint\n",
    "import numpy as np\n",
    "\n",
    "import json\n",
    "from sklearn.feature_extraction.text import TfidfVectorizer, CountVectorizer\n",
    "from nltk.corpus import stopwords\n",
    "import gensim\n",
    "import gensim.corpora as corpora\n",
    "import gensim.models.ldamodel as lda\n",
    "import spacy\n",
    "import itertools\n",
    "\n",
    "import pandas as pd\n",
    "import sqlite3\n",
    "\n",
    "import re\n",
    "import unidecode as ud\n",
    "import pickle\n",
    "import datetime\n",
    "\n",
    "from singernlp.ArtistReviewAnalyzer import ArtistReviewAnalyzer"
   ]
  },
  {
   "cell_type": "code",
   "execution_count": null,
   "id": "a3123a4b",
   "metadata": {},
   "outputs": [],
   "source": [
    "num_topics = list(range(16)[1:])\n",
    "num_keywords = 15\n",
    "id2word = corpora.Dictionary(pf.tokenized_reviews)\n",
    "corpus = [id2word.doc2bow(w) for w in pf.tokenized_reviews]\n",
    "\n",
    "LDA_models = {}\n",
    "LDA_topics = {}\n",
    "for i in num_topics:\n",
    "    LDA_models[i] = lda.LdaModel(corpus=corpus,\n",
    "                                 id2word=id2word,\n",
    "                                 num_topics=i,\n",
    "                                 update_every=1,\n",
    "                                 chunksize=len(corpus),\n",
    "                                 passes=20,\n",
    "                                 alpha='auto',\n",
    "                                 random_state=42)\n",
    "\n",
    "    shown_topics = LDA_models[i].show_topics(num_topics=i, \n",
    "                                             num_words=num_keywords,\n",
    "                                             formatted=False)\n",
    "    LDA_topics[i] = [[word[0] for word in topic[1]] for topic in shown_topics]"
   ]
  }
 ],
 "metadata": {
  "kernelspec": {
   "display_name": "singerenv",
   "language": "python",
   "name": "singerenv"
  },
  "language_info": {
   "codemirror_mode": {
    "name": "ipython",
    "version": 3
   },
   "file_extension": ".py",
   "mimetype": "text/x-python",
   "name": "python",
   "nbconvert_exporter": "python",
   "pygments_lexer": "ipython3",
   "version": "3.7.6"
  }
 },
 "nbformat": 4,
 "nbformat_minor": 5
}
