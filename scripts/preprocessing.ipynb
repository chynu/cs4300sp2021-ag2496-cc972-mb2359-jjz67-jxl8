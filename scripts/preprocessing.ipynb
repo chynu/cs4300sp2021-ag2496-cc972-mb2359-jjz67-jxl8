{
 "cells": [
  {
   "cell_type": "code",
   "execution_count": 1,
   "metadata": {},
   "outputs": [],
   "source": [
    "import numpy as np\n",
    "import csv\n",
    "from lyricsgenius import Genius\n",
    "import pandas as pd\n",
    "from sklearn.feature_extraction.text import TfidfVectorizer\n",
    "from scipy.sparse.linalg import svds\n",
    "import re\n",
    "from sklearn.preprocessing import normalize\n",
    "import functools\n",
    "import json\n",
    "import math\n",
    "import matplotlib\n",
    "import matplotlib.pyplot as plt\n",
    "%matplotlib inline"
   ]
  },
  {
   "cell_type": "code",
   "execution_count": 22,
   "metadata": {},
   "outputs": [],
   "source": [
    "# FORMATTING TO TRANSFORM CSV FILE TO JSON\n",
    "# GO TO 'TFIDF/SVD PROCESSING'\n",
    "\n",
    "df = pd.read_csv('0-550.csv')\n",
    "df2 = pd.read_csv('1074-1699.csv')"
   ]
  },
  {
   "cell_type": "code",
   "execution_count": 66,
   "metadata": {},
   "outputs": [],
   "source": [
    "artists_0_550 = df['Unnamed: 0']\n",
    "lyrics_0_550 = df[[str(i) for i in range(10)]].values.tolist()\n",
    "\n",
    "artists_1074_1699 = df2['Unnamed: 0']\n",
    "lyrics_1074_1699 = df2[[str(i) for i in range(10)]].values.tolist()"
   ]
  },
  {
   "cell_type": "code",
   "execution_count": 67,
   "metadata": {},
   "outputs": [],
   "source": [
    "def construct_artist_lyrics_dict(artists, lyrics):\n",
    "    \"\"\" Returns a dictionary mapping artist name to a list of lyrics of their\n",
    "        top ten songs.\n",
    "        \n",
    "    Params:\n",
    "        artists: list of artist names\n",
    "        lyrics: corresponding list of list of lyrics\n",
    "    Returns: dict\n",
    "    \"\"\"\n",
    "    return {artists[i]: lyrics[i] for i in range(len(artists))}"
   ]
  },
  {
   "cell_type": "code",
   "execution_count": 68,
   "metadata": {},
   "outputs": [],
   "source": [
    "artists_lyrics_0_550 = construct_artist_lyrics_dict(artists_0_550, lyrics_0_550)\n",
    "artists_lyrics_1074_1699 = construct_artist_lyrics_dict(artists_1074_1699, lyrics_1074_1699)"
   ]
  },
  {
   "cell_type": "code",
   "execution_count": 69,
   "metadata": {},
   "outputs": [],
   "source": [
    "def concatenate_lyrics(lyrics):\n",
    "    \"\"\" Returns a dictionary mapping artist name to a string containing all lyrics of their\n",
    "        top ten songs.\n",
    "        \n",
    "    Params:\n",
    "        lyrics: dict mapping artist name to list of lyrics\n",
    "    Returns: dict\n",
    "    \"\"\"\n",
    "    documents = {}\n",
    "    for artist in lyrics:\n",
    "        all_lyrics = \"\"\n",
    "        for song in lyrics[artist]:\n",
    "            if type(song) == 'str':\n",
    "                all_lyrics += song\n",
    "        documents[artist] = all_lyrics\n",
    "    return documents"
   ]
  },
  {
   "cell_type": "code",
   "execution_count": 70,
   "metadata": {},
   "outputs": [],
   "source": [
    "artist_documents_0_550 = concatenate_lyrics(artists_lyrics_0_550)\n",
    "artist_documents_1074_1699 = concatenate_lyrics(artists_lyrics_1074_1699)\n",
    "\n",
    "artist_lyrics_dicts.extend([artist_documents_0_550, artist_documents_1074_1699])\n",
    "\n",
    "with open('artist_lyrics_0-550.json', 'w') as outfile:\n",
    "    json.dump(artist_documents_0_550, outfile)\n",
    "with open('artist_lyrics_1074-1699.json', 'w') as outfile:\n",
    "    json.dump(artist_documents_1074_1699, outfile)"
   ]
  },
  {
   "cell_type": "code",
   "execution_count": 14,
   "metadata": {},
   "outputs": [],
   "source": [
    "# TFIDF/SVD PROCESSING\n",
    "# START PREPROCESSING FOR TFIDF-MATRIX AND SVD\n",
    "\n",
    "artists_order = pd.read_csv(\"../removed_dups_new.csv\")['artists'].to_list()\n",
    "\n",
    "artist_lyrics_dicts = []\n",
    "# path = '../data/processed/ignore/' \n",
    "path = \"\"\n",
    "for filename in ['artist_lyrics_0-803.json', 'artist_lyrics_804-1606.json',\n",
    "                 'artist_lyrics_1607-2409.json', 'artist_lyrics_2410-3212.json',\n",
    "                 'artist_lyrics_3213-4013.json']:\n",
    "    with open(path + filename) as json_file:\n",
    "        artist_lyrics_dicts.append(json.load(json_file))"
   ]
  },
  {
   "cell_type": "code",
   "execution_count": 16,
   "metadata": {},
   "outputs": [],
   "source": [
    "artist_lyrics = {}\n",
    "for mapping in artist_lyrics_dicts:\n",
    "    artist_lyrics.update(mapping)\n",
    "artist_lyrics = {i: artist_lyrics[i] for i in artists_order}\n",
    "\n",
    "artist_names = list(artists_order)\n",
    "artist_name_to_index = {artist_names[i] : i for i in range(len(artist_names))}\n",
    "\n",
    "artist_documents = [artist_lyrics[artist] for artist in artist_names]"
   ]
  },
  {
   "cell_type": "code",
   "execution_count": 17,
   "metadata": {},
   "outputs": [],
   "source": [
    "def build_vectorizer(max_n_terms=5000, max_prop_docs = 0.8, min_n_docs = 10):\n",
    "    \"\"\"Returns a TfidfVectorizer object with certain preprocessing properties.\n",
    "    \n",
    "    Params: {max_n_terms: Integer,\n",
    "             max_prop_docs: Float,\n",
    "             min_n_docs: Integer}\n",
    "    Returns: TfidfVectorizer\n",
    "    \"\"\"\n",
    "    return TfidfVectorizer(max_df=max_prop_docs, min_df=min_n_docs, max_features=max_n_terms, stop_words='english')"
   ]
  },
  {
   "cell_type": "code",
   "execution_count": 18,
   "metadata": {},
   "outputs": [],
   "source": [
    "tfidf_vec = build_vectorizer()\n",
    "tfidf_mat = tfidf_vec.fit_transform(artist_documents).toarray()\n",
    "vocab = tfidf_vec.get_feature_names()"
   ]
  },
  {
   "cell_type": "code",
   "execution_count": 19,
   "metadata": {},
   "outputs": [
    {
     "data": {
      "image/png": "[encoded data removed]",
      "text/plain": [
       "<Figure size 432x288 with 1 Axes>"
      ]
     },
     "metadata": {
      "needs_background": "light"
     },
     "output_type": "display_data"
    }
   ],
   "source": [
    "# Plot singular values of the k=100 terms\n",
    "u, s, v_trans = svds(tfidf_mat, k=100)\n",
    "\n",
    "plt.plot(s[::-1])\n",
    "plt.xlabel(\"Singular value number\")\n",
    "plt.ylabel(\"Singular value\")\n",
    "plt.show()"
   ]
  },
  {
   "cell_type": "code",
   "execution_count": 20,
   "metadata": {},
   "outputs": [],
   "source": [
    "u, s, v = svds(tfidf_mat, k=40)\n",
    "v = v.transpose()"
   ]
  },
  {
   "cell_type": "code",
   "execution_count": 21,
   "metadata": {},
   "outputs": [
    {
     "name": "stdout",
     "output_type": "stream",
     "text": [
      "(4013, 40)\n",
      "(5000, 40)\n"
     ]
    }
   ],
   "source": [
    "print(u.shape)\n",
    "print(v.shape)"
   ]
  },
  {
   "cell_type": "code",
   "execution_count": 22,
   "metadata": {},
   "outputs": [],
   "source": [
    "doc_rows = normalize(u, axis=1)\n",
    "word_rows = v\n",
    "\n",
    "def closest_projects(project_index_in, k = 5):\n",
    "    sims = doc_rows.dot(doc_rows[project_index_in,:])\n",
    "    asort = np.argsort(-sims)[:k+1]\n",
    "    return [(artist_names[i],sims[i]/sims[asort[0]]) for i in asort[1:]]"
   ]
  },
  {
   "cell_type": "code",
   "execution_count": 23,
   "metadata": {},
   "outputs": [
    {
     "name": "stdout",
     "output_type": "stream",
     "text": [
      "My Chemical Romance:0.918\n",
      "Roxette:0.910\n",
      "Kaiser Chiefs:0.901\n",
      "Tujamo:0.895\n",
      "Gwen Stefani:0.893\n"
     ]
    }
   ],
   "source": [
    "# for i in range(40, 50):\n",
    "#     print(artist_names[i])\n",
    "#     for title, score in closest_projects(i):\n",
    "#         print(\"{}:{:.3f}\".format(title[:40], score))\n",
    "#     print()\n",
    "\n",
    "index = artist_name_to_index[\"BTS\"]\n",
    "for title, score in closest_projects(index):\n",
    "    print(\"{}:{:.3f}\".format(title[:40], score))"
   ]
  },
  {
   "cell_type": "code",
   "execution_count": 24,
   "metadata": {},
   "outputs": [],
   "source": [
    "tfidf_mat_uncompressed = pd.DataFrame(tfidf_mat, columns = vocab, index = artist_names)\n",
    "tfidf_mat_compressed = pd.DataFrame(doc_rows, index = artist_names)\n",
    "words_compressed = pd.DataFrame(word_rows, index = vocab)"
   ]
  },
  {
   "cell_type": "code",
   "execution_count": 25,
   "metadata": {},
   "outputs": [],
   "source": [
    "tfidf_mat_compressed.to_csv('tfidf_mat_compressed.csv')\n",
    "tfidf_mat_uncompressed.to_csv('tfidf_mat_uncompressed.csv')\n",
    "words_compressed.to_csv('words_compressed.csv')"
   ]
  },
  {
   "cell_type": "code",
   "execution_count": 14,
   "metadata": {},
   "outputs": [],
   "source": [
    "## COMPILE ARTIST ALBUM TITLE, RATING, AND REVIEW INTO ONE FILE\n",
    "\n",
    "ratings = {}\n",
    "with open('../data/raw/ratings.json') as file:\n",
    "    ratings = json.load(file)\n",
    "\n",
    "numbers = ['0-803', '804_1606', '1607_2409', '2410_3212', '3213-4013']\n",
    "\n",
    "reviews = []\n",
    "albums = []\n",
    "for num in numbers:\n",
    "    with open('../data/raw/descriptors_' + num + '.json') as file:\n",
    "        reviews.append(json.load(file))\n",
    "    with open('../data/raw/albums_' + num + '.json') as file:\n",
    "        albums.append(json.load(file))"
   ]
  },
  {
   "cell_type": "code",
   "execution_count": 16,
   "metadata": {},
   "outputs": [],
   "source": [
    "reviews = {**(reviews[0]),**(reviews[1]),**(reviews[2]),**(reviews[3]),**(reviews[4])}\n",
    "albums = {**(albums[0]),**(albums[1]),**(albums[2]),**(albums[3]),**(albums[4])}"
   ]
  },
  {
   "cell_type": "code",
   "execution_count": 2,
   "metadata": {},
   "outputs": [],
   "source": [
    "with open('ratings_final.json') as file:\n",
    "    ratings = json.load(file)\n",
    "with open('descriptors_final.json') as file:\n",
    "    reviews = json.load(file)\n",
    "with open('albums_final.json') as file:\n",
    "    albums = json.load(file)"
   ]
  },
  {
   "cell_type": "code",
   "execution_count": 5,
   "metadata": {},
   "outputs": [],
   "source": [
    "total = {}\n",
    "for name in reviews:\n",
    "    total[name] = {'album_title':albums[name], 'rating':ratings[name], 'review':reviews[name]}"
   ]
  },
  {
   "cell_type": "code",
   "execution_count": 6,
   "metadata": {},
   "outputs": [],
   "source": [
    "with open('../artist_descriptions.json', 'w') as file:\n",
    "    json.dump(total, file)"
   ]
  },
  {
   "cell_type": "code",
   "execution_count": null,
   "metadata": {},
   "outputs": [],
   "source": []
  }
 ],
 "metadata": {
  "kernelspec": {
   "display_name": "cs4300-env",
   "language": "python",
   "name": "cs4300-env"
  },
  "language_info": {
   "codemirror_mode": {
    "name": "ipython",
    "version": 3
   },
   "file_extension": ".py",
   "mimetype": "text/x-python",
   "name": "python",
   "nbconvert_exporter": "python",
   "pygments_lexer": "ipython3",
   "version": "3.7.6"
  }
 },
 "nbformat": 4,
 "nbformat_minor": 4
}
