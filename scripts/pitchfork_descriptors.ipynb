{
 "cells": [
  {
   "cell_type": "code",
   "execution_count": 1,
   "id": "24d58728-964b-4365-9495-8e053eb4596e",
   "metadata": {},
   "outputs": [],
   "source": [
    "import numpy as np\n",
    "import json\n",
    "import pandas as pd\n",
    "%matplotlib inline\n",
    "import matplotlib.pyplot as plt\n",
    "import pitchfork"
   ]
  },
  {
   "cell_type": "code",
   "execution_count": 2,
   "id": "d3ec8d55-5be5-4042-a8bc-64466fde5923",
   "metadata": {},
   "outputs": [],
   "source": [
    "df = pd.read_csv('../removed_dups_new.csv')\n",
    "df = df.iloc[0:20] # plug in numbers"
   ]
  },
  {
   "cell_type": "code",
   "execution_count": 3,
   "id": "b99fe2f0-c5d6-4c6b-a84c-10aaecab68ad",
   "metadata": {},
   "outputs": [
    {
     "name": "stdout",
     "output_type": "stream",
     "text": [
      "0 \"Weird Al\" Yankovic\n",
      "\"Weird Al\" Yankovic: not found\n",
      "1 $atori Zoom\n",
      "$atori Zoom: not found\n",
      "2 $uicideBoy$\n",
      "3 (G)I-DLE\n",
      "(G)I-DLE: not found\n",
      "4 *NSYNC\n",
      "*NSYNC: not found\n",
      "5 03 Greedo\n",
      "6 10 Years\n",
      "7 100 gecs\n",
      "8 10cc\n",
      "10cc: not found\n",
      "9 112\n",
      "10 2 Chainz\n",
      "11 24hrs\n",
      "24hrs: not found\n",
      "12 24kGoldn\n",
      "24kGoldn: not found\n",
      "13 2CELLOS\n",
      "2CELLOS: not found\n",
      "14 2KBABY\n",
      "2KBABY: not found\n",
      "15 2NE1\n",
      "16 2Pac\n",
      "17 3 Doors Down\n",
      "3 Doors Down: not found\n",
      "18 311\n",
      "19 347aidan\n",
      "347aidan: not found\n"
     ]
    }
   ],
   "source": [
    "descriptors = {}\n",
    "ratings = {}\n",
    "albums = {}\n",
    "for index, row in df.iterrows():\n",
    "    artist = row['artists']\n",
    "    print(index, artist)\n",
    "    try:\n",
    "        p = pitchfork.search(artist,\"\")\n",
    "        abstract = p.abstract()\n",
    "        rating = p.score()\n",
    "        descriptors[artist] = abstract\n",
    "        ratings[artist] = rating\n",
    "        albums[artist] = p.album()\n",
    "    except IndexError:\n",
    "        print(artist + ': not found')"
   ]
  },
  {
   "cell_type": "code",
   "execution_count": null,
   "id": "1d5f830b-5f00-45d7-98b1-a1b62a204728",
   "metadata": {},
   "outputs": [],
   "source": [
    "with open('descriptors_0_20.json', 'w') as outfile: # plug in numbers\n",
    "    json.dump(descriptors, outfile)\n",
    "with open('ratings_0_20.json', 'w') as outfile: # plug in numbers\n",
    "    json.dump(ratings, outfile)\n",
    "with open('albums_0_20.json', 'w') as outfile: # plug in numbers\n",
    "    json.dump(albums, outfile)"
   ]
  },
  {
   "cell_type": "code",
   "execution_count": null,
   "id": "76e4be39-05f2-4846-8144-64422cc279d3",
   "metadata": {},
   "outputs": [],
   "source": []
  }
 ],
 "metadata": {
  "kernelspec": {
   "display_name": "project4300",
   "language": "python",
   "name": "project4300-venv"
  },
  "language_info": {
   "codemirror_mode": {
    "name": "ipython",
    "version": 3
   },
   "file_extension": ".py",
   "mimetype": "text/x-python",
   "name": "python",
   "nbconvert_exporter": "python",
   "pygments_lexer": "ipython3",
   "version": "3.7.6"
  }
 },
 "nbformat": 4,
 "nbformat_minor": 5
}
