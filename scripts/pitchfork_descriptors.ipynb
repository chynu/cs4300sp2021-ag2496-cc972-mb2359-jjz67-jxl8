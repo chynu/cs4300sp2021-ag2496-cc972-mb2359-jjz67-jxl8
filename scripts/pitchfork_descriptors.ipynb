{
 "cells": [
  {
   "cell_type": "code",
   "execution_count": 1,
   "id": "24d58728-964b-4365-9495-8e053eb4596e",
   "metadata": {},
   "outputs": [],
   "source": [
    "import numpy as np\n",
    "import json\n",
    "import pandas as pd\n",
    "%matplotlib inline\n",
    "import matplotlib.pyplot as plt\n",
    "import pitchfork"
   ]
  },
  {
   "cell_type": "code",
   "execution_count": 53,
   "id": "7f46de13-d12f-4622-947a-28e6faf78380",
   "metadata": {},
   "outputs": [],
   "source": [
    "descriptors = {}\n",
    "ratings = {}\n",
    "albums = {}"
   ]
  },
  {
   "cell_type": "code",
   "execution_count": 62,
   "id": "d3ec8d55-5be5-4042-a8bc-64466fde5923",
   "metadata": {},
   "outputs": [],
   "source": [
    "df = pd.read_csv('../removed_dups_new.csv')\n",
    "df = df.iloc[2999:3212] # plug in numbers"
   ]
  },
  {
   "cell_type": "code",
   "execution_count": 40,
   "id": "935684db-50a6-4d34-a4e1-c61577fd53d1",
   "metadata": {},
   "outputs": [],
   "source": [
    "p = pitchfork.search('$uicideBoy$',\"\")"
   ]
  },
  {
   "cell_type": "code",
   "execution_count": 41,
   "id": "4b272e39-a966-4b97-9a32-cf522ed39e27",
   "metadata": {},
   "outputs": [
    {
     "data": {
      "text/plain": [
       "7.1"
      ]
     },
     "execution_count": 41,
     "metadata": {},
     "output_type": "execute_result"
    }
   ],
   "source": [
    "p.score()"
   ]
  },
  {
   "cell_type": "code",
   "execution_count": 42,
   "id": "c27e4557-bc23-4f0f-a57b-89db93babb3f",
   "metadata": {},
   "outputs": [
    {
     "data": {
      "text/plain": [
       "'The Hijinx Tape'"
      ]
     },
     "execution_count": 42,
     "metadata": {},
     "output_type": "execute_result"
    }
   ],
   "source": [
    "p.album()"
   ]
  },
  {
   "cell_type": "code",
   "execution_count": 43,
   "id": "b44241bb-0347-484d-be63-40e310a41a27",
   "metadata": {},
   "outputs": [
    {
     "data": {
      "text/plain": [
       "'The latest signee to the $uicideboy$ label is an Atlanta skater-turned-rapper with a voice that’s as aggressive as it is gleeful. His new tape isn’t that serious, but his rapping is.\\n'"
      ]
     },
     "execution_count": 43,
     "metadata": {},
     "output_type": "execute_result"
    }
   ],
   "source": [
    "p.abstract()"
   ]
  },
  {
   "cell_type": "code",
   "execution_count": 63,
   "id": "50a84071-341b-42af-84c8-d937abd7c89b",
   "metadata": {},
   "outputs": [
    {
     "name": "stdout",
     "output_type": "stream",
     "text": [
      "2999 SMO\n",
      "3000 SOB X RBE\n",
      "3001 SOJA\n",
      "SOJA: not found\n",
      "3002 ST\n",
      "3003 STRFKR\n",
      "3004 SUPER JUNIOR\n",
      "SUPER JUNIOR: not found\n",
      "3005 SWV\n",
      "SWV: not found\n",
      "3006 SYML\n",
      "3007 SZA\n",
      "3008 Saba\n",
      "3009 Sabaton\n",
      "Sabaton: not found\n",
      "3010 Sabb\n",
      "3011 Sabrina Carpenter\n",
      "Sabrina Carpenter: not found\n",
      "3012 Sabrina Claudio\n",
      "Sabrina Claudio: not found\n",
      "3013 SadBoyProlific\n",
      "SadBoyProlific: not found\n",
      "3014 Sada Baby\n",
      "3015 Sade\n",
      "3016 Sadhana Sargam\n",
      "Sadhana Sargam: not found\n",
      "3017 Sage The Gemini\n",
      "3018 Saib\n",
      "Saib: not found\n",
      "3019 Said the Sky\n",
      "Said the Sky: not found\n",
      "3020 Saint Motel\n",
      "Saint Motel: not found\n",
      "3021 Salaam Remi\n",
      "Salaam Remi: not found\n",
      "3022 Saliva\n",
      "Saliva: not found\n",
      "3023 Salt-N-Pepa\n",
      "3024 Sam & Dave\n",
      "Sam & Dave: not found\n",
      "3025 Sam Cooke\n",
      "Sam Cooke: not found\n",
      "3026 Sam Feldt\n",
      "Sam Feldt: not found\n",
      "3027 Sam Fischer\n",
      "Sam Fischer: not found\n",
      "3028 Sam Hunt\n",
      "3029 Sam Tinnesz\n",
      "Sam Tinnesz: not found\n",
      "3030 Sammie\n",
      "Sammie: not found\n",
      "3031 Sammy & Falsetto\n",
      "Sammy & Falsetto: not found\n",
      "3032 Sammy Adams\n",
      "Sammy Adams: not found\n",
      "3033 Sampha\n",
      "3034 San Holo\n",
      "San Holo: not found\n",
      "3035 Sanchez\n",
      "Sanchez: not found\n",
      "3036 Sandro Cavazza\n",
      "Sandro Cavazza: not found\n",
      "3037 Santana\n",
      "3038 Santiago Cruz\n",
      "Santiago Cruz: not found\n",
      "3039 Santigold\n",
      "3040 Sara Bareilles\n",
      "Sara Bareilles: not found\n",
      "3041 Sara Kays\n",
      "Sara Kays: not found\n",
      "3042 Sarah Brightman\n",
      "Sarah Brightman: not found\n",
      "3043 Sarah De Warren\n",
      "Sarah De Warren: not found\n",
      "3044 Sarah McLachlan\n",
      "3045 Sarcastic Sounds\n",
      "Sarcastic Sounds: not found\n",
      "3046 Savage\n",
      "3047 Savage Ga$p\n",
      "Savage Ga$p: not found\n",
      "3048 Savage Garden\n",
      "Savage Garden: not found\n",
      "3049 Saweetie\n",
      "3050 ScHoolboy Q\n",
      "3051 Scarface\n",
      "3052 Scarlxrd\n",
      "Scarlxrd: not found\n",
      "3053 Scissor Sisters\n",
      "3054 Scoop\n",
      "Scoop: not found\n",
      "3055 Scorpions\n",
      "Scorpions: not found\n",
      "3056 Scotty McCreery\n",
      "Scotty McCreery: not found\n",
      "3057 Scouting For Girls\n",
      "Scouting For Girls: not found\n",
      "3058 Seaforth\n",
      "Seaforth: not found\n",
      "3059 Seafret\n",
      "Seafret: not found\n",
      "3060 Seal\n",
      "3061 Seals and Crofts\n",
      "Seals and Crofts: not found\n",
      "3062 Sean Dagher\n",
      "Sean Dagher: not found\n",
      "3063 Sean Kingston\n",
      "Sean Kingston: not found\n",
      "3064 Sean Paul\n",
      "3065 Sebastian Ingrosso\n",
      "Sebastian Ingrosso: not found\n",
      "3066 Sebastian Yatra\n",
      "Sebastian Yatra: not found\n",
      "3067 Sech\n",
      "Sech: not found\n",
      "3068 Secondhand Serenade\n",
      "Secondhand Serenade: not found\n",
      "3069 Secret Garden\n",
      "Secret Garden: not found\n",
      "3070 Seeb\n",
      "Seeb: not found\n",
      "3071 Seether\n",
      "Seether: not found\n",
      "3072 Seezyn\n",
      "Seezyn: not found\n",
      "3073 Sefa\n",
      "Sefa: not found\n",
      "3074 Selda Bağcan\n",
      "Selda Bağcan: not found\n",
      "3075 Selena Gomez\n",
      "3076 Selena Gomez & The Scene\n",
      "Selena Gomez & The Scene: not found\n",
      "3077 Semisonic\n",
      "Semisonic: not found\n",
      "3078 Sensation\n",
      "3079 Sepultura\n",
      "3080 Serena Isioma\n",
      "Serena Isioma: not found\n",
      "3081 Serge Gainsbourg\n",
      "3082 Sergei Rachmaninoff\n",
      "Sergei Rachmaninoff: not found\n",
      "3083 Sergio Dalma\n",
      "Sergio Dalma: not found\n",
      "3084 Sergio Vega \"El Shaka\"\n",
      "Sergio Vega \"El Shaka\": not found\n",
      "3085 Serj Tankian\n",
      "Serj Tankian: not found\n",
      "3086 Set It Off\n",
      "3087 Seven Lions\n",
      "Seven Lions: not found\n",
      "3088 Sevendust\n",
      "Sevendust: not found\n",
      "3089 Sevyn Streeter\n",
      "Sevyn Streeter: not found\n",
      "3090 Sex Pistols\n",
      "3091 Sezen Aksu\n",
      "Sezen Aksu: not found\n",
      "3092 Sfera Ebbasta\n",
      "Sfera Ebbasta: not found\n",
      "3093 Shaan\n",
      "Shaan: not found\n",
      "3094 Shadow\n",
      "3095 Shaggy\n",
      "3096 Shakewell\n",
      "Shakewell: not found\n",
      "3097 Shakira\n",
      "3098 Shakka\n",
      "Shakka: not found\n",
      "3099 Shama\n",
      "3100 Shane & Shane\n",
      "3101 Shania Twain\n",
      "3102 Shankar Mahadevan\n",
      "Shankar Mahadevan: not found\n",
      "3103 Shankar-Ehsaan-Loy\n",
      "Shankar-Ehsaan-Loy: not found\n",
      "3104 Sharon Van Etten\n",
      "3105 Shatta Wale\n",
      "Shatta Wale: not found\n",
      "3106 Shawn Mendes\n",
      "3107 Shayne Orok\n",
      "Shayne Orok: not found\n",
      "3108 Sheck Wes\n",
      "3109 Sheena Easton\n",
      "Sheena Easton: not found\n",
      "3110 Sheena Ringo\n",
      "Sheena Ringo: not found\n",
      "3111 Sheff G\n",
      "3112 Sheikh\n",
      "Sheikh: not found\n",
      "3113 Sheila On 7\n",
      "Sheila On 7: not found\n",
      "3114 Shekhar Ravjiani\n",
      "Shekhar Ravjiani: not found\n",
      "3115 Shelley FKA DRAM\n",
      "Shelley FKA DRAM: not found\n",
      "3116 Sheppard\n",
      "Sheppard: not found\n",
      "3117 Sheryl Crow\n",
      "3118 Shiki-TMNS\n",
      "Shiki-TMNS: not found\n",
      "3119 Shiloh Dynasty\n",
      "Shiloh Dynasty: not found\n",
      "3120 Shilpa Rao\n",
      "Shilpa Rao: not found\n",
      "3121 Shinedown\n",
      "Shinedown: not found\n",
      "3122 Shinsei Kamattechan\n",
      "Shinsei Kamattechan: not found\n",
      "3123 Shiro Sagisu\n",
      "Shiro Sagisu: not found\n",
      "3124 Shordie Shordie\n",
      "3125 Shoreline Mafia\n",
      "3126 Shotgun Willy\n",
      "Shotgun Willy: not found\n",
      "3127 Showtek\n",
      "Showtek: not found\n",
      "3128 Shreya Ghoshal\n",
      "Shreya Ghoshal: not found\n",
      "3129 Shy Glizzy\n",
      "3130 SiR\n",
      "3131 Sia\n",
      "3132 Sick Puppies\n",
      "Sick Puppies: not found\n",
      "3133 Sigala\n",
      "Sigala: not found\n",
      "3134 Sigur Rós\n",
      "3135 Sik World\n",
      "Sik World: not found\n",
      "3136 Silverchair\n",
      "Silverchair: not found\n",
      "3137 Silverstein\n",
      "3138 Silversun Pickups\n",
      "3139 Silvio Rodríguez\n",
      "Silvio Rodríguez: not found\n",
      "3140 Simon & Garfunkel\n",
      "3141 Simple Minds\n",
      "3142 Simple Plan\n",
      "Simple Plan: not found\n",
      "3143 Simply Red\n",
      "Simply Red: not found\n",
      "3144 Sin Bandera\n",
      "Sin Bandera: not found\n",
      "3145 Sinead Harnett\n",
      "Sinead Harnett: not found\n",
      "3146 Sinéad O'Connor\n",
      "3147 Siouxsie and the Banshees\n",
      "Siouxsie and the Banshees: not found\n",
      "3148 Sir Chloe\n",
      "Sir Chloe: not found\n",
      "3149 Sir Neville Marriner\n",
      "Sir Neville Marriner: not found\n",
      "3150 Sir Simon Rattle\n",
      "Sir Simon Rattle: not found\n",
      "3151 Sir Sly\n",
      "Sir Sly: not found\n",
      "3152 Sisqo\n",
      "Sisqo: not found\n",
      "3153 Sister Sledge\n",
      "3154 Sixpence None The Richer\n",
      "Sixpence None The Richer: not found\n",
      "3155 Sizzla\n",
      "Sizzla: not found\n",
      "3156 Ska-P\n",
      "Ska-P: not found\n",
      "3157 Skegss\n",
      "Skegss: not found\n",
      "3158 Skepta\n",
      "3159 Skid Row\n",
      "3160 Skillet\n",
      "Skillet: not found\n",
      "3161 Skrillex\n",
      "3162 Sky\n",
      "3163 Skylar Grey\n",
      "Skylar Grey: not found\n",
      "3164 Skytech\n",
      "Skytech: not found\n",
      "3165 Slayer\n",
      "3166 Sleep\n",
      "3167 Sleep Sounds of Nature\n",
      "Sleep Sounds of Nature: not found\n",
      "3168 Sleeping At Last\n",
      "Sleeping At Last: not found\n",
      "3169 Sleeping With Sirens\n",
      "Sleeping With Sirens: not found\n",
      "3170 Sleepy Fish\n",
      "Sleepy Fish: not found\n",
      "3171 Sleepy Hallow\n",
      "3172 Slightly Stoopid\n",
      "Slightly Stoopid: not found\n",
      "3173 Slim Jxmmi\n",
      "3174 Slim Thug\n",
      "3175 Slipknot\n",
      "3176 Sloan\n",
      "3177 Slowdive\n",
      "3178 Sly & The Family Stone\n",
      "3179 Smallpools\n",
      "Smallpools: not found\n",
      "3180 Smash Mouth\n",
      "3181 Smino\n",
      "3182 Smith\n",
      "3183 Smokepurpp\n",
      "3184 Smokey Robinson\n",
      "Smokey Robinson: not found\n",
      "3185 Snail's House\n",
      "Snail's House: not found\n",
      "3186 Snakehips\n",
      "Snakehips: not found\n",
      "3187 Snoh Aalegra\n",
      "3188 Snoop Dogg\n",
      "3189 Snow Patrol\n",
      "3190 Snow Tha Product\n",
      "Snow Tha Product: not found\n",
      "3191 Snøw\n",
      "3192 SoMo\n",
      "3193 Social Distortion\n",
      "Social Distortion: not found\n",
      "3194 Soda Stereo\n",
      "Soda Stereo: not found\n",
      "3195 Sofia Carson\n",
      "Sofia Carson: not found\n",
      "3196 Sofia Karlberg\n",
      "Sofia Karlberg: not found\n",
      "3197 Soft Cell\n",
      "Soft Cell: not found\n",
      "3198 Solange\n",
      "3199 Solfeggio Healing Frequencies\n",
      "Solfeggio Healing Frequencies: not found\n",
      "3200 Solo\n",
      "3201 Solomon Burke\n",
      "Solomon Burke: not found\n",
      "3202 Sonder\n",
      "3203 Sonic Youth\n",
      "3204 Sono\n",
      "3205 Sonu Nigam\n",
      "Sonu Nigam: not found\n",
      "3206 Sophie Ellis-Bextor\n",
      "Sophie Ellis-Bextor: not found\n",
      "3207 Soul Asylum\n",
      "Soul Asylum: not found\n",
      "3208 SoulChef\n",
      "SoulChef: not found\n",
      "3209 Soulja Boy\n",
      "3210 Sound Rush\n",
      "3211 Soundgarden\n"
     ]
    }
   ],
   "source": [
    "for index, row in df.iterrows():\n",
    "    artist = row['artists']\n",
    "    print(index, artist)\n",
    "    try:\n",
    "        p = pitchfork.search(artist,\"\")\n",
    "        abstract = p.abstract()\n",
    "        rating = p.score()\n",
    "        descriptors[artist] = abstract\n",
    "        ratings[artist] = rating\n",
    "        albums[artist] = p.album()\n",
    "    except IndexError:\n",
    "        print(artist + ': not found')"
   ]
  },
  {
   "cell_type": "code",
   "execution_count": 64,
   "id": "1d5f830b-5f00-45d7-98b1-a1b62a204728",
   "metadata": {},
   "outputs": [],
   "source": [
    "with open('descriptors_2410_3212.json', 'w') as outfile: # plug in numbers\n",
    "    json.dump(descriptors, outfile)\n",
    "with open('ratings_2410_3212.json', 'w') as outfile: # plug in numbers\n",
    "    json.dump(ratings, outfile)\n",
    "with open('albums_2410_3212.json', 'w') as outfile: # plug in numbers\n",
    "    json.dump(albums, outfile)"
   ]
  },
  {
   "cell_type": "code",
   "execution_count": 19,
   "id": "76e4be39-05f2-4846-8144-64422cc279d3",
   "metadata": {},
   "outputs": [
    {
     "data": {
      "text/plain": [
       "290"
      ]
     },
     "execution_count": 19,
     "metadata": {},
     "output_type": "execute_result"
    }
   ],
   "source": [
    "len(descriptors.items())"
   ]
  },
  {
   "cell_type": "markdown",
   "id": "c1e48bc2",
   "metadata": {},
   "source": [
    "## Compiling json files"
   ]
  },
  {
   "cell_type": "code",
   "execution_count": 10,
   "id": "7bae8844",
   "metadata": {},
   "outputs": [],
   "source": [
    "import glob\n",
    "import unidecode as ud"
   ]
  },
  {
   "cell_type": "code",
   "execution_count": 15,
   "id": "27b27455",
   "metadata": {},
   "outputs": [],
   "source": [
    "def merge_pf_jsons(prefix, decode=True):\n",
    "    merged_dict = {}\n",
    "    for f in glob.glob(prefix + \"_*.json\"):\n",
    "        with open(f, \"rb\") as infile:\n",
    "            merged_dict.update(json.load(infile))\n",
    "    fixed_merged_dict = {}\n",
    "    for artist in merged_dict:\n",
    "        if decode:\n",
    "            fixed_merged_dict[ud.unidecode(artist).upper()] = [ud.unidecode(merged_dict[artist])]\n",
    "        else:\n",
    "            fixed_merged_dict[ud.unidecode(artist).upper()] = [merged_dict[artist]]\n",
    "    return fixed_merged_dict"
   ]
  },
  {
   "cell_type": "code",
   "execution_count": 16,
   "id": "aaa12224",
   "metadata": {},
   "outputs": [
    {
     "data": {
      "text/plain": [
       "1201"
      ]
     },
     "execution_count": 16,
     "metadata": {},
     "output_type": "execute_result"
    }
   ],
   "source": [
    "# DESCRIPTORS\n",
    "merged_descriptors = merge_pf_jsons(\"descriptors\")\n",
    "len(merged_descriptors.keys())"
   ]
  },
  {
   "cell_type": "code",
   "execution_count": 17,
   "id": "4d6b3812",
   "metadata": {},
   "outputs": [
    {
     "data": {
      "text/plain": [
       "1201"
      ]
     },
     "execution_count": 17,
     "metadata": {},
     "output_type": "execute_result"
    }
   ],
   "source": [
    "# ALBUMS\n",
    "merged_albums = merge_pf_jsons(\"albums\")\n",
    "len(merged_albums.keys())"
   ]
  },
  {
   "cell_type": "code",
   "execution_count": 19,
   "id": "26ed9aa3",
   "metadata": {},
   "outputs": [
    {
     "data": {
      "text/plain": [
       "1201"
      ]
     },
     "execution_count": 19,
     "metadata": {},
     "output_type": "execute_result"
    }
   ],
   "source": [
    "# RATINGS\n",
    "merged_ratings = merge_pf_jsons(\"ratings\", decode=False)\n",
    "len(merged_ratings.keys())"
   ]
  },
  {
   "cell_type": "code",
   "execution_count": 20,
   "id": "cb632d4b",
   "metadata": {},
   "outputs": [],
   "source": [
    "with open(\"pitchfork_descriptors.json\", \"w\") as outfile:\n",
    "     json.dump(merged_descriptors, outfile)"
   ]
  },
  {
   "cell_type": "code",
   "execution_count": 21,
   "id": "f8e9232b",
   "metadata": {},
   "outputs": [],
   "source": [
    "with open(\"pitchfork_albums.json\", \"w\") as outfile:\n",
    "     json.dump(merged_albums, outfile)"
   ]
  },
  {
   "cell_type": "code",
   "execution_count": 22,
   "id": "055fd7ea",
   "metadata": {},
   "outputs": [],
   "source": [
    "with open(\"pitchfork_ratings.json\", \"w\") as outfile:\n",
    "     json.dump(merged_ratings, outfile)"
   ]
  },
  {
   "cell_type": "code",
   "execution_count": null,
   "id": "e49c18b5",
   "metadata": {},
   "outputs": [],
   "source": []
  }
 ],
 "metadata": {
  "kernelspec": {
   "display_name": "singerenv",
   "language": "python",
   "name": "singerenv"
  },
  "language_info": {
   "codemirror_mode": {
    "name": "ipython",
    "version": 3
   },
   "file_extension": ".py",
   "mimetype": "text/x-python",
   "name": "python",
   "nbconvert_exporter": "python",
   "pygments_lexer": "ipython3",
   "version": "3.7.6"
  }
 },
 "nbformat": 4,
 "nbformat_minor": 5
}
