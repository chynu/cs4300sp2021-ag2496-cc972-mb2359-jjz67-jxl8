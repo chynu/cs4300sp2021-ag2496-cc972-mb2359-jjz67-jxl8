{
 "cells": [
  {
   "cell_type": "code",
   "execution_count": 1,
   "id": "24d58728-964b-4365-9495-8e053eb4596e",
   "metadata": {},
   "outputs": [],
   "source": [
    "import numpy as np\n",
    "import json\n",
    "import pandas as pd\n",
    "%matplotlib inline\n",
    "import matplotlib.pyplot as plt\n",
    "import pitchfork"
   ]
  },
  {
   "cell_type": "code",
   "execution_count": 27,
   "id": "7f46de13-d12f-4622-947a-28e6faf78380",
   "metadata": {},
   "outputs": [],
   "source": [
    "descriptors = {}\n",
    "ratings = {}\n",
    "albums = {}"
   ]
  },
  {
   "cell_type": "code",
   "execution_count": 28,
   "id": "d3ec8d55-5be5-4042-a8bc-64466fde5923",
   "metadata": {},
   "outputs": [],
   "source": [
    "df = pd.read_csv('../removed_dups_new.csv')\n",
    "df = df.iloc[0:20] # plug in numbers"
   ]
  },
  {
   "cell_type": "code",
   "execution_count": 33,
   "id": "935684db-50a6-4d34-a4e1-c61577fd53d1",
   "metadata": {},
   "outputs": [],
   "source": [
    "p = pitchfork.search('$uicideBoy$',\"\")"
   ]
  },
  {
   "cell_type": "code",
   "execution_count": 34,
   "id": "4b272e39-a966-4b97-9a32-cf522ed39e27",
   "metadata": {},
   "outputs": [
    {
     "data": {
      "text/plain": [
       "7.1"
      ]
     },
     "execution_count": 34,
     "metadata": {},
     "output_type": "execute_result"
    }
   ],
   "source": [
    "p.score()"
   ]
  },
  {
   "cell_type": "code",
   "execution_count": 35,
   "id": "c27e4557-bc23-4f0f-a57b-89db93babb3f",
   "metadata": {},
   "outputs": [
    {
     "data": {
      "text/plain": [
       "'The Hijinx Tape'"
      ]
     },
     "execution_count": 35,
     "metadata": {},
     "output_type": "execute_result"
    }
   ],
   "source": [
    "p.album()"
   ]
  },
  {
   "cell_type": "code",
   "execution_count": 36,
   "id": "b44241bb-0347-484d-be63-40e310a41a27",
   "metadata": {},
   "outputs": [
    {
     "data": {
      "text/plain": [
       "'The latest signee to the $uicideboy$ label is an Atlanta skater-turned-rapper with a voice that’s as aggressive as it is gleeful. His new tape isn’t that serious, but his rapping is.\\n'"
      ]
     },
     "execution_count": 36,
     "metadata": {},
     "output_type": "execute_result"
    }
   ],
   "source": [
    "p.abstract()"
   ]
  },
  {
   "cell_type": "code",
   "execution_count": 29,
   "id": "50a84071-341b-42af-84c8-d937abd7c89b",
   "metadata": {},
   "outputs": [
    {
     "name": "stdout",
     "output_type": "stream",
     "text": [
      "0 \"Weird Al\" Yankovic\n",
      "\"Weird Al\" Yankovic: not found\n",
      "1 $atori Zoom\n",
      "$atori Zoom: not found\n",
      "2 $uicideBoy$\n",
      "3 (G)I-DLE\n",
      "(G)I-DLE: not found\n",
      "4 *NSYNC\n",
      "*NSYNC: not found\n",
      "5 03 Greedo\n",
      "6 10 Years\n",
      "7 100 gecs\n",
      "8 10cc\n",
      "10cc: not found\n",
      "9 112\n",
      "10 2 Chainz\n",
      "11 24hrs\n",
      "24hrs: not found\n",
      "12 24kGoldn\n",
      "24kGoldn: not found\n",
      "13 2CELLOS\n",
      "2CELLOS: not found\n",
      "14 2KBABY\n",
      "2KBABY: not found\n",
      "15 2NE1\n",
      "16 2Pac\n",
      "17 3 Doors Down\n",
      "3 Doors Down: not found\n",
      "18 311\n",
      "19 347aidan\n",
      "347aidan: not found\n"
     ]
    }
   ],
   "source": [
    "for index, row in df.iterrows():\n",
    "    artist = row['artists']\n",
    "    print(index, artist)\n",
    "    try:\n",
    "        p = pitchfork.search(artist,\"\")\n",
    "        abstract = p.abstract()\n",
    "        rating = p.score()\n",
    "        descriptors[artist] = abstract\n",
    "        ratings[artist] = rating\n",
    "        albums[artist] = p.album()\n",
    "    except IndexError:\n",
    "        print(artist + ': not found')"
   ]
  },
  {
   "cell_type": "code",
   "execution_count": 18,
   "id": "1d5f830b-5f00-45d7-98b1-a1b62a204728",
   "metadata": {},
   "outputs": [],
   "source": [
    "with open('descriptors_804_1606.json', 'w') as outfile: # plug in numbers\n",
    "    json.dump(descriptors, outfile)\n",
    "with open('ratings_804_1606.json', 'w') as outfile: # plug in numbers\n",
    "    json.dump(ratings, outfile)\n",
    "with open('albums_804_1606.json', 'w') as outfile: # plug in numbers\n",
    "    json.dump(albums, outfile)"
   ]
  },
  {
   "cell_type": "code",
   "execution_count": 19,
   "id": "76e4be39-05f2-4846-8144-64422cc279d3",
   "metadata": {},
   "outputs": [
    {
     "data": {
      "text/plain": [
       "290"
      ]
     },
     "execution_count": 19,
     "metadata": {},
     "output_type": "execute_result"
    }
   ],
   "source": [
    "len(descriptors.items())"
   ]
  },
  {
   "cell_type": "code",
   "execution_count": null,
   "id": "c2bd6675-dc71-4f44-9aba-ff616f490f1c",
   "metadata": {},
   "outputs": [],
   "source": []
  }
 ],
 "metadata": {
  "kernelspec": {
   "display_name": "project4300",
   "language": "python",
   "name": "project4300-venv"
  },
  "language_info": {
   "codemirror_mode": {
    "name": "ipython",
    "version": 3
   },
   "file_extension": ".py",
   "mimetype": "text/x-python",
   "name": "python",
   "nbconvert_exporter": "python",
   "pygments_lexer": "ipython3",
   "version": "3.7.6"
  }
 },
 "nbformat": 4,
 "nbformat_minor": 5
}
