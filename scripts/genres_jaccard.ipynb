{
 "cells": [
  {
   "cell_type": "code",
   "execution_count": 3,
   "id": "df4eba56-123f-4da7-bcc7-1dc2cdb2aeac",
   "metadata": {},
   "outputs": [],
   "source": [
    "import numpy as np\n",
    "import json\n",
    "import pandas as pd\n",
    "%matplotlib inline\n",
    "import matplotlib.pyplot as plt"
   ]
  },
  {
   "cell_type": "code",
   "execution_count": 4,
   "id": "ab869c32-d6bd-4e35-87be-dc917f4ffea8",
   "metadata": {},
   "outputs": [],
   "source": [
    "def build_genre_sims_jac(num_artists, input_data):\n",
    "    \"\"\"Returns a matrix of size num_artists x num_artists where entry [i,j]\n",
    "       should be the Jaccard similarity between the category sets for artists i and j. \n",
    "        \n",
    "    Notes: \n",
    "        - Artists sometimes contain *duplicate* genres! You should only count a category once.\n",
    "        - An artist should have a Jaccard similarity of 1.0 with itself.\n",
    "        - If a artist has no genres, then its Jaccard similarity with other movies is 0.\n",
    "    \n",
    "    Params: {num_artists: Integer,\n",
    "             input_data: List<Dictionary>}\n",
    "    Returns: np.ndarray \n",
    "    \"\"\"\n",
    "    jac_matrix = np.zeros((num_artists,num_artists))\n",
    "    for i in range(num_artists):\n",
    "        for j in range(num_artists):\n",
    "            if i == j:\n",
    "                jac_matrix[i][j] = 1.0\n",
    "            else:\n",
    "                genres_i = set(input_data[i])\n",
    "                genres_j = set(input_data[j])\n",
    "                if genres_i != set() and genres_j != set():\n",
    "                    jac_matrix[i][j] = len(genres_i.intersection(genres_j)) / len(genres_i.union(genres_j))\n",
    "    return jac_matrix"
   ]
  },
  {
   "cell_type": "code",
   "execution_count": 6,
   "id": "c655701a-1909-45d6-b4f2-b76a79e0c6ba",
   "metadata": {},
   "outputs": [],
   "source": [
    "df = pd.read_csv('../removed_dups.csv', delimiter=',')"
   ]
  },
  {
   "cell_type": "code",
   "execution_count": 62,
   "id": "2a564736-908b-4941-9f0e-1d58f1e57255",
   "metadata": {},
   "outputs": [],
   "source": [
    "duplicate = df[df.duplicated('Songs')]"
   ]
  },
  {
   "cell_type": "code",
   "execution_count": 63,
   "id": "8b9e72ca-27a2-491d-9c99-260710315c5d",
   "metadata": {},
   "outputs": [],
   "source": [
    "duplicate = duplicate.sort_values('Songs', ascending=True)"
   ]
  },
  {
   "cell_type": "code",
   "execution_count": 64,
   "id": "222db791-ab87-42eb-b213-e1a46986d04a",
   "metadata": {},
   "outputs": [],
   "source": [
    "duplicate.to_csv('duplicates.csv')"
   ]
  },
  {
   "cell_type": "code",
   "execution_count": 7,
   "id": "cbbdd580-b368-4dd2-89d8-fcbacbf65e76",
   "metadata": {},
   "outputs": [],
   "source": [
    "genres_list = []\n",
    "for index, row in df.iterrows():\n",
    "    genres_str = row['genres'][1:-1]\n",
    "    genres = genres_str.split(\"', '\")\n",
    "    for i in range(len(genres)):\n",
    "        genres[i] = genres[i].strip(\" ''\")\n",
    "    genres_list.append(genres)"
   ]
  },
  {
   "cell_type": "code",
   "execution_count": 8,
   "id": "890d0b38-0073-4fcf-b89e-b481ac2880d6",
   "metadata": {},
   "outputs": [],
   "source": [
    "jaccard = build_genre_sims_jac(len(genres_list), genres_list)"
   ]
  },
  {
   "cell_type": "code",
   "execution_count": 13,
   "id": "ca38098d-7cad-4644-a183-aa4498e20815",
   "metadata": {},
   "outputs": [],
   "source": [
    "pd.DataFrame(jaccard).to_csv('jaccard.csv')"
   ]
  },
  {
   "cell_type": "code",
   "execution_count": 78,
   "id": "a062c80b-649e-4623-a3fc-d090247575eb",
   "metadata": {},
   "outputs": [],
   "source": [
    "import zipfile\n",
    "with zipfile.ZipFile('lyrics_data/tfidf_svd.zip', 'r') as zip_ref:\n",
    "    zip_ref.extractall()"
   ]
  },
  {
   "cell_type": "code",
   "execution_count": 79,
   "id": "ef9b0bd3-ca03-4dc1-b801-a4aa142b2a8d",
   "metadata": {},
   "outputs": [
    {
     "ename": "TypeError",
     "evalue": "string indices must be integers",
     "output_type": "error",
     "traceback": [
      "\u001b[0;31m---------------------------------------------------------------------------\u001b[0m",
      "\u001b[0;31mTypeError\u001b[0m                                 Traceback (most recent call last)",
      "\u001b[0;32m<ipython-input-79-d50c78304f1d>\u001b[0m in \u001b[0;36m<module>\u001b[0;34m\u001b[0m\n\u001b[1;32m      3\u001b[0m \u001b[0;31m# Here, we will assign an index for each artist_id.\u001b[0m\u001b[0;34m\u001b[0m\u001b[0;34m\u001b[0m\u001b[0;34m\u001b[0m\u001b[0m\n\u001b[1;32m      4\u001b[0m \u001b[0;31m# This index will help us access data in numpy matrices.\u001b[0m\u001b[0;34m\u001b[0m\u001b[0;34m\u001b[0m\u001b[0;34m\u001b[0m\u001b[0m\n\u001b[0;32m----> 5\u001b[0;31m \u001b[0martist_id_to_index\u001b[0m \u001b[0;34m=\u001b[0m \u001b[0;34m{\u001b[0m\u001b[0martist_id\u001b[0m\u001b[0;34m:\u001b[0m\u001b[0mindex\u001b[0m \u001b[0;32mfor\u001b[0m \u001b[0mindex\u001b[0m\u001b[0;34m,\u001b[0m \u001b[0martist_id\u001b[0m \u001b[0;32min\u001b[0m \u001b[0menumerate\u001b[0m\u001b[0;34m(\u001b[0m\u001b[0;34m[\u001b[0m\u001b[0md\u001b[0m\u001b[0;34m[\u001b[0m\u001b[0;34m'artist_id'\u001b[0m\u001b[0;34m]\u001b[0m \u001b[0;32mfor\u001b[0m \u001b[0md\u001b[0m \u001b[0;32min\u001b[0m \u001b[0mdata\u001b[0m\u001b[0;34m]\u001b[0m\u001b[0;34m)\u001b[0m\u001b[0;34m}\u001b[0m\u001b[0;34m\u001b[0m\u001b[0;34m\u001b[0m\u001b[0m\n\u001b[0m\u001b[1;32m      6\u001b[0m \u001b[0;34m\u001b[0m\u001b[0m\n\u001b[1;32m      7\u001b[0m \u001b[0;31m# We will also need a dictionary mapping artist names to artist ids\u001b[0m\u001b[0;34m\u001b[0m\u001b[0;34m\u001b[0m\u001b[0;34m\u001b[0m\u001b[0m\n",
      "\u001b[0;32m<ipython-input-79-d50c78304f1d>\u001b[0m in \u001b[0;36m<listcomp>\u001b[0;34m(.0)\u001b[0m\n\u001b[1;32m      3\u001b[0m \u001b[0;31m# Here, we will assign an index for each artist_id.\u001b[0m\u001b[0;34m\u001b[0m\u001b[0;34m\u001b[0m\u001b[0;34m\u001b[0m\u001b[0m\n\u001b[1;32m      4\u001b[0m \u001b[0;31m# This index will help us access data in numpy matrices.\u001b[0m\u001b[0;34m\u001b[0m\u001b[0;34m\u001b[0m\u001b[0;34m\u001b[0m\u001b[0m\n\u001b[0;32m----> 5\u001b[0;31m \u001b[0martist_id_to_index\u001b[0m \u001b[0;34m=\u001b[0m \u001b[0;34m{\u001b[0m\u001b[0martist_id\u001b[0m\u001b[0;34m:\u001b[0m\u001b[0mindex\u001b[0m \u001b[0;32mfor\u001b[0m \u001b[0mindex\u001b[0m\u001b[0;34m,\u001b[0m \u001b[0martist_id\u001b[0m \u001b[0;32min\u001b[0m \u001b[0menumerate\u001b[0m\u001b[0;34m(\u001b[0m\u001b[0;34m[\u001b[0m\u001b[0md\u001b[0m\u001b[0;34m[\u001b[0m\u001b[0;34m'artist_id'\u001b[0m\u001b[0;34m]\u001b[0m \u001b[0;32mfor\u001b[0m \u001b[0md\u001b[0m \u001b[0;32min\u001b[0m \u001b[0mdata\u001b[0m\u001b[0;34m]\u001b[0m\u001b[0;34m)\u001b[0m\u001b[0;34m}\u001b[0m\u001b[0;34m\u001b[0m\u001b[0;34m\u001b[0m\u001b[0m\n\u001b[0m\u001b[1;32m      6\u001b[0m \u001b[0;34m\u001b[0m\u001b[0m\n\u001b[1;32m      7\u001b[0m \u001b[0;31m# We will also need a dictionary mapping artist names to artist ids\u001b[0m\u001b[0;34m\u001b[0m\u001b[0;34m\u001b[0m\u001b[0;34m\u001b[0m\u001b[0m\n",
      "\u001b[0;31mTypeError\u001b[0m: string indices must be integers"
     ]
    }
   ],
   "source": [
    "# Here, we will assign an index for each artist_id. \n",
    "# This index will help us access data in numpy matrices.\n",
    "artist_id_to_index = {artist_id:index for index, artist_id in enumerate([d['artist_id'] for d in data])}\n",
    "\n",
    "# We will also need a dictionary mapping artist names to artist ids\n",
    "artist_name_to_id = {name:mid for name, mid in zip([d['artist_name'] for d in data],\n",
    "                                                     [d['artist_id'] for d in data])}\n",
    "artist_id_to_name = {v:k for k,v in artist_name_to_id.items()}\n",
    "\n",
    "# and because it might be useful...\n",
    "artist_name_to_index = {name:artist_id_to_index[artist_name_to_id[name]] for name in [d['artist_name'] for d in data]}\n",
    "artist_index_to_name = {v:k for k,v in artist_name_to_index.items()}\n",
    "\n",
    "tfidf_mat = pd.read_csv('tfidf_mat_compressed.csv').to_numpy"
   ]
  },
  {
   "cell_type": "code",
   "execution_count": null,
   "id": "d5c46e3b-c3cf-44d7-9099-0ff1fd670469",
   "metadata": {},
   "outputs": [],
   "source": [
    "def rocchio_update(query, query_obj, input_doc_mat, \\\n",
    "            movie_name_to_index=movie_name_to_index,a=.3, b=.3, c=.8):\n",
    "    \"\"\"Returns a vector representing the modified query vector. \n",
    "    \n",
    "    Note: \n",
    "        Be sure to handle the cases where relevant and irrelevant are empty lists.\n",
    "        \n",
    "    Params: {query: String (the name of the movie being queried for),\n",
    "             query_obj: Dict (storing the names of relevant and irrelevant artists for query),\n",
    "             input_doc_mat: Numpy Array,\n",
    "             artist_name_to_index: Dict,\n",
    "             a,b,c: floats (weighting of the original query, relevant artists,\n",
    "                             and irrelevant artists, respectively)}\n",
    "    Returns: np.ndarray\n",
    "    \"\"\"\n",
    "    q = input_doc_mat[artist_name_to_index[query]]\n",
    "    dimension = len(q)\n",
    "    rel_d = np.zeros(dimension)\n",
    "    irrel_d = np.zeros(dimension)\n",
    "    relevant = query_obj['relevant_artists']\n",
    "    irrelevant = query_obj['irrelevant_artists']\n",
    "    len_rel = len(relevant)\n",
    "    len_irrel = len(irrelevant)\n",
    "    for r in range(len_rel):\n",
    "        artist = relevant[r]\n",
    "        index = artist_name_to_index[artist]\n",
    "        rel_d += input_doc_mat[index]\n",
    "    for i in range(len_irrel):\n",
    "        artist = irrelevant[i]\n",
    "        index = artist_name_to_index[artist]\n",
    "        irrel_d += input_doc_mat[index] \n",
    "    rocchio = (a * q) + (b * rel_d / len_rel) - (c * irrel_d / len_irrel)\n",
    "    updated_rocchio = np.clip(rocchio,0,None)\n",
    "    return updated_rocchio"
   ]
  },
  {
   "cell_type": "code",
   "execution_count": null,
   "id": "d9e409be-85a0-43ea-86ea-6caba24fd5fa",
   "metadata": {},
   "outputs": [],
   "source": []
  }
 ],
 "metadata": {
  "kernelspec": {
   "display_name": "project4300",
   "language": "python",
   "name": "project4300-venv"
  },
  "language_info": {
   "codemirror_mode": {
    "name": "ipython",
    "version": 3
   },
   "file_extension": ".py",
   "mimetype": "text/x-python",
   "name": "python",
   "nbconvert_exporter": "python",
   "pygments_lexer": "ipython3",
   "version": "3.7.6"
  }
 },
 "nbformat": 4,
 "nbformat_minor": 5
}
