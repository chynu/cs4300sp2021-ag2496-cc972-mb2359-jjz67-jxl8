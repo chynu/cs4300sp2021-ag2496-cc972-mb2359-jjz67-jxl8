{
 "cells": [
  {
   "cell_type": "markdown",
   "id": "d71463ac",
   "metadata": {},
   "source": [
    "# Linguistic Description of Songs\n",
    "\n",
    "Exploring how we can deduce song genres or narrow down artists from a user-inputted linguistic description.\n",
    "\n",
    "Columns afforded by the Kaggle dataset:\n",
    " - acousticness\n",
    " - artists\n",
    " - danceability\n",
    " - duration_ms\n",
    " - energy\n",
    " - explicit\n",
    " - id\n",
    " - instrumentalness\n",
    " - key\n",
    " - liveness\n",
    " - loudness\n",
    " - mode\n",
    " - name\n",
    " - popularity\n",
    " - release_date\n",
    " - speechiness\n",
    " - tempo\n",
    " - valence\n",
    " - year"
   ]
  },
  {
   "cell_type": "code",
   "execution_count": 143,
   "id": "3a270a55",
   "metadata": {},
   "outputs": [],
   "source": [
    "import nltk\n",
    "import json\n",
    "import numpy as np\n",
    "from nltk.tokenize import word_tokenize\n",
    "from nltk.corpus import stopwords\n",
    "from sklearn.feature_extraction.text import TfidfVectorizer, CountVectorizer\n",
    "\n",
    "import pandas as pd\n",
    "import sqlite3\n",
    "\n",
    "import re\n",
    "import unidecode as ud\n",
    "\n",
    "import matplotlib.pyplot as plt"
   ]
  },
  {
   "cell_type": "markdown",
   "id": "deba8e02",
   "metadata": {},
   "source": [
    "## Standardized Helper Functions"
   ]
  },
  {
   "cell_type": "code",
   "execution_count": 34,
   "id": "7e58d85a",
   "metadata": {},
   "outputs": [],
   "source": [
    "def clean_str(input_artist, cap_code=0):\n",
    "    \"\"\"\n",
    "    Takes in string, returns a unicode-friendly and stripped version of the string.\n",
    "    \"\"\"\n",
    "    return_artist_str = input_artist\n",
    "    \n",
    "    # === REGEX REPLACE ===\n",
    "    repl_tuples = [(r'(^\\s+)|(\\s+$)', ''),           # whitespace at beg/end of string\n",
    "                   (r'\\s+', ' '),                    # Remove double spaces\n",
    "                   (r'[\\n|\\r|\\t|\\0]+', ' ')\n",
    "                  ]\n",
    "    for ptn, repl_str in repl_tuples:\n",
    "        return_artist_str = re.sub(ptn, repl_str, return_artist_str)\n",
    "    \n",
    "    # === UNICODE HANDLING ===\n",
    "    return_artist_str = ud.unidecode(return_artist_str)\n",
    "    \n",
    "    if cap_code == -1: return_artist_str = return_artist_str.lower()\n",
    "    elif cap_code == 1: return_artist_str = return_artist_str.upper()\n",
    "    \n",
    "    return return_artist_str"
   ]
  },
  {
   "cell_type": "code",
   "execution_count": 3,
   "id": "92b83676",
   "metadata": {},
   "outputs": [],
   "source": [
    "def read_mard_json(input_filename):\n",
    "    \"\"\"\n",
    "    \n",
    "    Takes in file name of JSON, returns a list of dictionaries in which\n",
    "    each element is a row with columns (as the keys).\n",
    "    \n",
    "    \"\"\"\n",
    "    loaded_data_ = []\n",
    "    with open(input_filename, 'r') as file_:\n",
    "        loaded_string_ = file_.read()\n",
    "        loaded_data_ = [json.loads(s) for s in loaded_string_.split('\\n') if s is not None and len(s) > 0]\n",
    "        file_.close()\n",
    "    return loaded_data_"
   ]
  },
  {
   "cell_type": "code",
   "execution_count": 49,
   "id": "13aeef2e",
   "metadata": {},
   "outputs": [],
   "source": [
    "def read_mard_json_as_df(input_filename):\n",
    "    \"\"\"\n",
    "    \n",
    "    Takes in file name of JSON, returns a list of dictionaries in which\n",
    "    each element is a row with columns (as the keys).\n",
    "    \n",
    "    \"\"\"\n",
    "    loaded_data_ = []\n",
    "    with open(input_filename, 'r') as file_:\n",
    "        loaded_string_ = file_.read()\n",
    "        loaded_data_ = [json.loads(s) for s in loaded_string_.split('\\n') if s is not None and len(s) > 0]\n",
    "        file_.close()\n",
    "    return pd.DataFrame(loaded_data_)"
   ]
  },
  {
   "cell_type": "code",
   "execution_count": 4,
   "id": "7a340410",
   "metadata": {},
   "outputs": [],
   "source": [
    "def run_query_on_sqlite_db(input_query, input_filename):\n",
    "    \"\"\"\n",
    "    \n",
    "    Returns a Pandas DataFrame object containing the query results,\n",
    "    given the user's query and the filename for the sqlite database.\n",
    "    \n",
    "    Input:\n",
    "     - input_query: string representation of the SQL query to run on the sqlite db\n",
    "     - input_filename: the file location of the sqlite database\n",
    "     \n",
    "    \"\"\"\n",
    "    conn_ = sqlite3.connect(input_filename)\n",
    "    df_ = pd.read_sql_query(input_query, conn_)\n",
    "    conn_.close()\n",
    "    return df_"
   ]
  },
  {
   "cell_type": "markdown",
   "id": "b3e9902d",
   "metadata": {},
   "source": [
    "## Mard Reviews Dataset\n",
    "\n",
    "### Loading & Understanding Data\n",
    "\n",
    "First we load in the data. Data source can be found [here](https://www.upf.edu/web/mtg/mard)."
   ]
  },
  {
   "cell_type": "code",
   "execution_count": 5,
   "id": "ff638a14",
   "metadata": {},
   "outputs": [],
   "source": [
    "# Loading Metadata\n",
    "mard_metadata = read_mard_json('../data/raw/mard_reviews/mard_metadata.json')\n",
    "    \n",
    "# Loading Reviews\n",
    "mard_reviews = read_mard_json('../data/raw/mard_reviews/mard_reviews.json')"
   ]
  },
  {
   "cell_type": "markdown",
   "id": "31788717",
   "metadata": {},
   "source": [
    "Then we print some metadata to see what the data looks like."
   ]
  },
  {
   "cell_type": "code",
   "execution_count": 6,
   "id": "eef68799",
   "metadata": {
    "scrolled": false
   },
   "outputs": [],
   "source": [
    "all_md_keys = set([])\n",
    "all_rev_keys = set([])\n",
    "for row in mard_metadata:\n",
    "    all_md_keys.update(list(row.keys()))\n",
    "for row in mard_reviews:\n",
    "    all_rev_keys.update(list(row.keys()))\n",
    "\n",
    "# Gather all metadata and review keys to see what is going on\n",
    "all_md_keys = list(all_md_keys)\n",
    "all_rev_keys = list(all_rev_keys)"
   ]
  },
  {
   "cell_type": "code",
   "execution_count": 7,
   "id": "669a35ce",
   "metadata": {},
   "outputs": [
    {
     "name": "stdout",
     "output_type": "stream",
     "text": [
      "METADATA KEYS\n",
      "['first-release-year', 'categories', 'imUrl', 'artist-mbid', 'price', 'title', 'artist', 'release-group-mbid', 'root-genre', 'related', 'amazon-id', 'salesRank', 'brand', 'confidence', 'artist_url', 'release-mbid', 'label', 'songs']\n",
      "\n",
      "REVIEWS KEYS\n",
      "['summary', 'reviewerID', 'reviewerName', 'reviewText', 'amazon-id', 'unixReviewTime', 'helpful', 'reviewTime', 'overall']\n"
     ]
    }
   ],
   "source": [
    "print('METADATA KEYS')\n",
    "print(all_md_keys)\n",
    "print()\n",
    "print('REVIEWS KEYS')\n",
    "print(all_rev_keys)"
   ]
  },
  {
   "cell_type": "code",
   "execution_count": 8,
   "id": "bb142f4f",
   "metadata": {
    "scrolled": true
   },
   "outputs": [
    {
     "name": "stdout",
     "output_type": "stream",
     "text": [
      "Buy this album. Now.  Don't worry about the reviews.  If you love pure, honest music buy this album....you will not be let down.\n",
      "\n",
      "The Sudden Passion did a great job with this one. The lyrics are witty, with just the right amount of twang.  This is a whiskey-soaked indie rock jam that captures the soul of modern americana!\n",
      "\n",
      "I received this CD as a gift a few weeks ago from a friend. I was a bit skeptical at first but decided to try it anyway. This CD is great! The first two tracks talk you through how to use the CD and give you great techniques for breathing. I like track 3 because it's only 10 minutes which helps a lot with my busy schedule. It's already helped me sleep better and feel better during the day. Highly recommended!\n",
      "\n",
      "I am a beginner and have tried a couple of meditation CDs on the market but have disliked them due to poor audio quality and all the Far East philosophy they try to get you to buy into. I simply wanted a quick way to get started meditating so that I could relieve my stress after a long day. This CD has been a blessing as it is easy to understand and benefit from. The music and the sound effects help me regulate my breathing and synchronize to the guided meditations. I highly recommend this for anybody looking to improve their quality of life and mental focus and don't want to spend a lot of money or have to subscribe to complicated spiritual values from India or China.  I had my wife try it and she loves it. Now we meditate together and it has brought us closer and even increased passion in our relationship. I will give this as gifts as the price is great for the life-improving benefits it provides. This is a CD for everyone!\n",
      "\n",
      "This is coming from a person that didn't believe that mediation helped anyone. I was given this tape from a friend, and it took me a week before I even opened it. From the very first time I listened to it, I was like \"WOW\"!! I have lived with anxiety and panics for 20 years and now anytime I need to just calm my mind and be in total relaxation I do the 10 min. part of the CD. It is truly amazing how it helps me be relaxed, confident, and in total peace. I have been truly blessed by the CD, and by the friend that introduced it to me! This is one of the greatest life changing gifts I have ever received.\n",
      "\n"
     ]
    }
   ],
   "source": [
    "# Print the first five reviews just to get a sense of the data\n",
    "for row in mard_reviews[:5]:\n",
    "    print(row['reviewText'])\n",
    "    print()"
   ]
  },
  {
   "cell_type": "markdown",
   "id": "83bd91dc",
   "metadata": {},
   "source": [
    "### Vectorize Dataset\n",
    "\n",
    "Now we turn it into a usable data structure so that we can start analyzing it. First we turn it into a TF-IDF matrix."
   ]
  },
  {
   "cell_type": "code",
   "execution_count": null,
   "id": "2f331a6a",
   "metadata": {},
   "outputs": [],
   "source": [
    "reviews_list = []\n",
    "vectorizer = TfidfVectorizer(analyzer='word', stop_words={'english'})\n",
    "\n",
    "for i,row in enumerate(mard_reviews):\n",
    "    reviews_list.append(row['reviewText'])\n",
    "\n",
    "mard_tfidf = vectorizer.fit_transform(reviews_list)\n",
    "print(mard_tfidf.shape)"
   ]
  },
  {
   "cell_type": "markdown",
   "id": "53d5238f",
   "metadata": {},
   "source": [
    "### Get Unique Artists"
   ]
  },
  {
   "cell_type": "markdown",
   "id": "cc192e9e",
   "metadata": {},
   "source": [
    "Getting a list of all unique artists in the MARD dataset..."
   ]
  },
  {
   "cell_type": "code",
   "execution_count": 11,
   "id": "06b85213",
   "metadata": {},
   "outputs": [
    {
     "name": "stdout",
     "output_type": "stream",
     "text": [
      "Number of unique artists: 36676\n"
     ]
    }
   ],
   "source": [
    "mard_artists = set([])\n",
    "\n",
    "for row in mard_metadata:\n",
    "    if 'artist' in row:\n",
    "        mard_artists.add(clean_str(row['artist'], cap_code=1))\n",
    "\n",
    "mard_artists = sorted(list(mard_artists))\n",
    "        \n",
    "print(\"Number of unique artists:\", len(mard_artists))"
   ]
  },
  {
   "cell_type": "markdown",
   "id": "dad1bdf3",
   "metadata": {},
   "source": [
    "## Pitchfork Reviews Dataset\n",
    "\n",
    "### Loading and Understanding the Data\n",
    "\n",
    "Loading in sqlite db. Source: [link](https://www.kaggle.com/nolanbconaway/pitchfork-data)."
   ]
  },
  {
   "cell_type": "code",
   "execution_count": 12,
   "id": "bcec570a",
   "metadata": {},
   "outputs": [],
   "source": [
    "all_pf_tables = ['artists', 'content', 'genres', 'labels', 'reviews', 'years']\n",
    "pitchfork_db = {}\n",
    "\n",
    "for table in all_pf_tables:\n",
    "    pitchfork_db[table] = run_query_on_sqlite_db(\"SELECT * FROM \" + table, \"../data/raw/pitchfork_reviews.sqlite\")"
   ]
  },
  {
   "cell_type": "code",
   "execution_count": 13,
   "id": "e59861ec",
   "metadata": {
    "scrolled": true
   },
   "outputs": [
    {
     "name": "stdout",
     "output_type": "stream",
     "text": [
      "Unique genres in db:\n",
      "['electronic' 'metal' 'rock' None 'rap' 'experimental' 'pop/r&b'\n",
      " 'folk/country' 'jazz' 'global']\n"
     ]
    }
   ],
   "source": [
    "# Printing all unique genres in db\n",
    "print(\"Unique genres in db:\")\n",
    "print(pd.unique(pitchfork_db['genres']['genre']))"
   ]
  },
  {
   "cell_type": "code",
   "execution_count": 14,
   "id": "819e10ad",
   "metadata": {},
   "outputs": [
    {
     "name": "stdout",
     "output_type": "stream",
     "text": [
      "SAMPLE OF REVIEW TITLES\n",
      "0                                             mezzanine\n",
      "1                                          prelapsarian\n",
      "2                                  all of them naturals\n",
      "3                                           first songs\n",
      "4                                             new start\n",
      "5         insecure (music from the hbo original series)\n",
      "6                               stillness in wonderland\n",
      "7                                              tehillim\n",
      "8                                            reflection\n",
      "9                          filthy america its beautiful\n",
      "10                                clear sounds/perfetta\n",
      "11                                     run the jewels 3\n",
      "12                                                nadir\n",
      "13                                        december 99th\n",
      "14                                     don't smoke rock\n",
      "15    punk45: les punks: the french connection (the ...\n",
      "16                                      brnshj (puncak)\n",
      "17                             merry christmas lil mama\n",
      "18                                      ///// effectual\n",
      "19                                    love you to death\n",
      "Name: title, dtype: object\n"
     ]
    }
   ],
   "source": [
    "print(\"SAMPLE OF REVIEW TITLES\")\n",
    "print(pitchfork_db['reviews']['title'][:20])"
   ]
  },
  {
   "cell_type": "code",
   "execution_count": 15,
   "id": "45440a9b",
   "metadata": {
    "scrolled": true
   },
   "outputs": [
    {
     "name": "stdout",
     "output_type": "stream",
     "text": [
      "SAMPLE OF REVIEW CONTENT\n",
      "0     “Trip-hop” eventually became a ’90s punchline,...\n",
      "1     Eight years, five albums, and two EPs in, the ...\n",
      "2     Minneapolis’ Uranium Club seem to revel in bei...\n",
      "3     Kleenex began with a crash. It transpired one ...\n",
      "4     It is impossible to consider a given release b...\n",
      "5     In the pilot episode of “Insecure,” the critic...\n",
      "6     Rapper Simbi Ajikawo, who records as Little Si...\n",
      "7     For the last thirty years, Israel’s electronic...\n",
      "8     Ambient music is a funny thing. As innocuous a...\n",
      "9     There were innumerable cameos at the Bad Boy F...\n",
      "10    Lots of drone musicians have been called sound...\n",
      "11    On 2006’s “That’s Life,” Killer Mike boasted “...\n",
      "12    “Why so sad?/Don’t feel so bad/Get out of bed,...\n",
      "13    In January 2016, rapper/actor Yasiin Bey annou...\n",
      "14    Don’t take your eyes off Pete Rock. The early-...\n",
      "15    Soul Jazz’s Punk 45 series has made it its mis...\n",
      "16    It’s safe to say there is no other band on the...\n",
      "17    When Chance the Rapper performed “Sunday Candy...\n",
      "18    It’s not easy for drummers to get the spotligh...\n",
      "19    For over a decade now, The-Dream has demonstra...\n",
      "Name: content, dtype: object\n"
     ]
    }
   ],
   "source": [
    "print(\"SAMPLE OF REVIEW CONTENT\")\n",
    "print(pitchfork_db['content']['content'][:20])"
   ]
  },
  {
   "cell_type": "markdown",
   "id": "38d84dc1",
   "metadata": {},
   "source": [
    "### Get Unique Artists"
   ]
  },
  {
   "cell_type": "code",
   "execution_count": 16,
   "id": "c8e76497",
   "metadata": {},
   "outputs": [
    {
     "name": "stdout",
     "output_type": "stream",
     "text": [
      "Num unique artists: 8633\n",
      "\n",
      "First twenty artists (alphabetic order):\n",
      "['', '!!!', '+/-', '-ZIQ', '...AND YOU WILL KNOW US BY THE TRAIL OF DEAD', '1,2,3', '10 IN THE SWEAR JAR', '11:11', '12 RODS', '120 DAYS', '13 & GOD', '13GHOSTS', '13TH FLOOR ELEVATORS', '1990S', '2 CHAINZ', '2 MANY DJS', '20 MILES', '20 MINUTE LOOP', '200 YEARS', '21 SAVAGE']\n"
     ]
    }
   ],
   "source": [
    "pitchfork_artists = sorted([clean_str(a, cap_code=1) for a in pd.unique(pitchfork_db['artists']['artist'])])\n",
    "\n",
    "print(\"Num unique artists:\", len(pitchfork_artists))\n",
    "print()\n",
    "print(\"First twenty artists (alphabetic order):\")\n",
    "print(sorted(pitchfork_artists)[:20])"
   ]
  },
  {
   "cell_type": "markdown",
   "id": "f1eb7b3f",
   "metadata": {},
   "source": [
    "## Comparing Artist Lists\n",
    "\n",
    "Comparing against the list of artists from our baseline TFIDF matrix for artist search."
   ]
  },
  {
   "cell_type": "code",
   "execution_count": 17,
   "id": "4bf543af",
   "metadata": {},
   "outputs": [
    {
     "name": "stdout",
     "output_type": "stream",
     "text": [
      "['\"CATS\" 1981 ORIGINAL LONDON CAST', '\"WEIRD AL\" YANKOVIC', '$ATORI ZOOM', '$NOT', \"'IN THE HEIGHTS' ORIGINAL BROADWAY COMPANY\", '((( O )))', '(EM)', '*SPANDREL', '03 GREEDO', '070 SHAKE', '10 YEARS', '100 GECS', '1927', '2 CHAINZ', '20/20', '21 SAVAGE', '24HRS', '24KGOLDN', '27CLUB', '2KBABY']\n"
     ]
    }
   ],
   "source": [
    "kaggle_tfidf = pd.read_csv(\"../data/processed/tfidf_mat_compressed.csv\")\n",
    "kaggle_artists = sorted([ clean_str(s, cap_code=1) for s in kaggle_tfidf.values[:,0] ])\n",
    "\n",
    "print(kaggle_artists[:20])"
   ]
  },
  {
   "cell_type": "code",
   "execution_count": 18,
   "id": "08361a6f",
   "metadata": {},
   "outputs": [],
   "source": [
    "# Store artist sets from different databases in a single dictionary\n",
    "artist_sets = {}\n",
    "artist_sets['tfidf'] = set(kaggle_artists)\n",
    "artist_sets['pitchfork'] = set(pitchfork_artists)\n",
    "artist_sets['mard'] = set(mard_artists)"
   ]
  },
  {
   "cell_type": "markdown",
   "id": "49c96c85",
   "metadata": {},
   "source": [
    "Basic intersection of artist strings"
   ]
  },
  {
   "cell_type": "code",
   "execution_count": 19,
   "id": "07365d9f",
   "metadata": {},
   "outputs": [
    {
     "name": "stdout",
     "output_type": "stream",
     "text": [
      "TFIDF && pitchfork: 497\n",
      "TFIDF && mard: 1220\n",
      "pitchfork && mard: 1216\n",
      "TFIDF && (pitchfork || mard): 1509\n"
     ]
    }
   ],
   "source": [
    "# Store intersections into variables for easy access\n",
    "tf_pf = list(artist_sets['tfidf'].intersection(artist_sets['pitchfork']))\n",
    "tf_mard = list(artist_sets['tfidf'].intersection(artist_sets['mard']))\n",
    "pf_mard = list(artist_sets['pitchfork'].intersection(artist_sets['mard']))\n",
    "tf_pfmard = list(artist_sets['tfidf'].intersection(artist_sets['pitchfork'].union(artist_sets['mard'])))\n",
    "                                          \n",
    "print(\"TFIDF && pitchfork:\", len(tf_pf))\n",
    "print(\"TFIDF && mard:\", len(tf_mard))\n",
    "print(\"pitchfork && mard:\", len(pf_mard))\n",
    "print(\"TFIDF && (pitchfork || mard):\", len(tf_pfmard))"
   ]
  },
  {
   "cell_type": "code",
   "execution_count": 20,
   "id": "3e1806b2",
   "metadata": {
    "scrolled": false
   },
   "outputs": [
    {
     "name": "stdout",
     "output_type": "stream",
     "text": [
      "FIRST 30 ARTISTS IN (TFIDF && (pitchfork || mard)):\n",
      "\n",
      "['MAELO RUIZ', 'KEHLANI', 'PAUL BADURA-SKODA', 'WET WET WET', 'CECILIA', 'EMANUEL AX', 'JON NAKAMATSU', 'COMMON', 'THE PRESIDENTS OF THE UNITED STATES OF AMERICA', 'MANCHESTER ORCHESTRA', 'TWISTA', 'JOSS STONE', 'NAT KING COLE', 'RIDE', 'MIX MASTER MIKE', 'SAVAGE', 'TIM MCGRAW', 'EL TRONO DE MEXICO', 'CULTURE BEAT', 'EVE', 'BUJU BANTON', 'GUAYACAN ORQUESTA', 'PHISH', 'JOHN LEGEND', 'BTS', 'ELECTRIC GUEST', 'ELLIE GOULDING', 'TALK TALK', 'DUNCAN DHU', 'DESIIGNER']\n"
     ]
    }
   ],
   "source": [
    "print(\"FIRST 30 ARTISTS IN (TFIDF && (pitchfork || mard)):\\n\")\n",
    "print(tf_pfmard[:30])"
   ]
  },
  {
   "cell_type": "markdown",
   "id": "02b94326",
   "metadata": {},
   "source": [
    "## Mapping Artist to Review Content"
   ]
  },
  {
   "cell_type": "code",
   "execution_count": 21,
   "id": "25a18ac0",
   "metadata": {},
   "outputs": [],
   "source": [
    "# We assign which list of artists will be our finalized\n",
    "# list of artists to consult for reviews.\n",
    "ALL_ARTISTS = tf_pfmard"
   ]
  },
  {
   "cell_type": "markdown",
   "id": "4b385895",
   "metadata": {},
   "source": [
    "### Artist to Index Mapping"
   ]
  },
  {
   "cell_type": "code",
   "execution_count": 22,
   "id": "ff25df7e",
   "metadata": {},
   "outputs": [],
   "source": [
    "a_to_i = {a:i for i,a in enumerate(ALL_ARTISTS)}"
   ]
  },
  {
   "cell_type": "markdown",
   "id": "37db925d",
   "metadata": {},
   "source": [
    "### Review Retrieval Functions"
   ]
  },
  {
   "cell_type": "code",
   "execution_count": 42,
   "id": "98447f9d",
   "metadata": {},
   "outputs": [],
   "source": [
    "pf_reviews_df = run_query_on_sqlite_db(\n",
    "    \"\"\"\n",
    "    SELECT reviews.title, reviews.artist, reviews.score, content.content\n",
    "      FROM content\n",
    "      LEFT JOIN reviews\n",
    "      ON content.reviewid = reviews.reviewid\n",
    "    \"\"\", \"../data/raw/pitchfork_reviews.sqlite\")"
   ]
  },
  {
   "cell_type": "code",
   "execution_count": 43,
   "id": "0e51f7ff",
   "metadata": {},
   "outputs": [
    {
     "name": "stdout",
     "output_type": "stream",
     "text": [
      "Index(['title', 'artist', 'score', 'content'], dtype='object')\n"
     ]
    }
   ],
   "source": [
    "print(pf_reviews_df.keys())"
   ]
  },
  {
   "cell_type": "code",
   "execution_count": null,
   "id": "b78b363e",
   "metadata": {},
   "outputs": [],
   "source": [
    "# TODO: Delete cell\n",
    "reviews_list = []\n",
    "vectorizer = TfidfVectorizer(analyzer='word', stop_words={'english'})\n",
    "\n",
    "for i,row in enumerate(mard_reviews):\n",
    "    reviews_list.append(row['reviewText'])\n",
    "\n",
    "mard_tfidf = vectorizer.fit_transform(reviews_list)\n",
    "print(mard_tfidf.shape)"
   ]
  },
  {
   "cell_type": "code",
   "execution_count": 86,
   "id": "6c56e67a",
   "metadata": {},
   "outputs": [],
   "source": [
    "vectorizer = TfidfVectorizer(analyzer='word', stop_words={'english'})"
   ]
  },
  {
   "cell_type": "code",
   "execution_count": 151,
   "id": "7d3cb833",
   "metadata": {},
   "outputs": [],
   "source": [
    "def process_reviews(input_artist_list, input_dataframe, max_reviews=30):\n",
    "    \"\"\"\n",
    "    \n",
    "    Maps artist name to a list of reviews written about that artist.\n",
    "    \n",
    "    \"\"\"\n",
    "    artist_to_review_dict = {}\n",
    "\n",
    "    # Initialize dictionary of all artists\n",
    "    for artist in input_artist_list:\n",
    "        artist_to_review_dict[artist] = []\n",
    "\n",
    "    # Iterate through DataFrame to sanitize strings \n",
    "    # and add reviews to dict\n",
    "    for i,row in input_dataframe.iterrows():\n",
    "        if type(row['artist']) != str or len(row['artist']) == 0:\n",
    "            continue\n",
    "        temp_artist = clean_str(row['artist'], cap_code=1)\n",
    "        if temp_artist in artist_to_review_dict and len(artist_to_review_dict[temp_artist]) <= max_reviews:\n",
    "            temp_review_string = \"\"\n",
    "            if type(row['title']) == str and len(row['title']) > 0:\n",
    "                temp_review_string += clean_str(row['title'])\n",
    "            if type(row['content']) == str and len(row['content']) > 0:\n",
    "                temp_review_string += clean_str(row['content']) if len(temp_review_string)==0 else \" - \" + clean_str(row['content'])\n",
    "            \n",
    "            artist_to_review_dict[temp_artist].append(temp_review_string)\n",
    "    \n",
    "    return artist_to_review_dict\n",
    "\n",
    "pf_atr_dict = process_reviews(ALL_ARTISTS, pf_reviews_df)"
   ]
  },
  {
   "cell_type": "code",
   "execution_count": 52,
   "id": "9cb298ce",
   "metadata": {},
   "outputs": [],
   "source": [
    "# Loading Data as DataFrames\n",
    "mard_md_df = read_mard_json_as_df('../data/raw/mard_reviews/mard_metadata.json')\n",
    "mard_rev_df = read_mard_json_as_df('../data/raw/mard_reviews/mard_reviews.json')"
   ]
  },
  {
   "cell_type": "code",
   "execution_count": 54,
   "id": "35698390",
   "metadata": {
    "scrolled": true
   },
   "outputs": [
    {
     "name": "stdout",
     "output_type": "stream",
     "text": [
      "Index(['price', 'artist-mbid', 'imUrl', 'confidence', 'categories',\n",
      "       'release-group-mbid', 'amazon-id', 'root-genre', 'title', 'artist',\n",
      "       'label', 'artist_url', 'first-release-year', 'release-mbid', 'songs',\n",
      "       'salesRank', 'related', 'brand'],\n",
      "      dtype='object')\n",
      "Index(['reviewerID', 'amazon-id', 'reviewerName', 'helpful', 'unixReviewTime',\n",
      "       'reviewText', 'overall', 'reviewTime', 'summary'],\n",
      "      dtype='object')\n"
     ]
    }
   ],
   "source": [
    "# Create a joined DataFrame that has 'artist', 'title', and 'content' fields.\n",
    "print(mard_md_df.keys())\n",
    "print(mard_rev_df.keys())"
   ]
  },
  {
   "cell_type": "code",
   "execution_count": 63,
   "id": "31d596fc",
   "metadata": {},
   "outputs": [],
   "source": [
    "mard_combined_dataframe = mard_md_df.merge(mard_rev_df, on='amazon-id', how='left')"
   ]
  },
  {
   "cell_type": "code",
   "execution_count": 79,
   "id": "869b194e",
   "metadata": {
    "scrolled": true
   },
   "outputs": [
    {
     "name": "stdout",
     "output_type": "stream",
     "text": [
      "['artist-mbid', 'amazon-id', 'title', 'artist', 'label', 'artist_url', 'first-release-year', 'songs', 'salesRank', 'related', 'brand', 'reviewerID', 'reviewerName', 'helpful', 'unixReviewTime', 'content', 'overall', 'reviewTime', 'summary']\n"
     ]
    }
   ],
   "source": [
    "temp_columns_to_drop = ['artist-mbid', 'amazon-id', \n",
    "                        'label', 'artist_url', 'first-release-year', \n",
    "                        'songs', 'salesRank', 'related', 'brand', \n",
    "                        'reviewerID', 'reviewerName', 'helpful', 'unixReviewTime', \n",
    "                        'overall', 'reviewTime', 'summary']\n",
    "\n",
    "mard_combined_dataframe = mard_combined_dataframe.rename(columns={'reviewText': 'content'})\n",
    "mard_combined_dataframe = mard_combined_dataframe.drop(columns=temp_columns_to_drop)"
   ]
  },
  {
   "cell_type": "code",
   "execution_count": 152,
   "id": "276af0ea",
   "metadata": {
    "scrolled": true
   },
   "outputs": [],
   "source": [
    "mard_atr_dict = process_reviews(ALL_ARTISTS, mard_combined_dataframe)"
   ]
  },
  {
   "cell_type": "code",
   "execution_count": 109,
   "id": "cb094caa",
   "metadata": {},
   "outputs": [],
   "source": [
    "def get_pf_review(input_artist):\n",
    "    \"\"\"\n",
    "    Gets all Pitchfork reviews for the given artist.\n",
    "    \n",
    "    Input: \n",
    "    - input_artist (string)\n",
    "    \n",
    "    Output:\n",
    "    - list of reviews for given artist. returns empty list if no reviews\n",
    "      exist for the artist, or if the artist is not in the db.\n",
    "    \n",
    "    \"\"\"\n",
    "    return pf_atr_dict[input_artist] if len(pf_atr_dict[input_artist]) > 0 else []"
   ]
  },
  {
   "cell_type": "code",
   "execution_count": 110,
   "id": "7c4ad698",
   "metadata": {},
   "outputs": [],
   "source": [
    "def get_mard_review(input_artist):\n",
    "    \"\"\"\n",
    "    Gets all MARD reviews for the given artist.\n",
    "    \n",
    "    Input: \n",
    "    - input_artist (string)\n",
    "    \n",
    "    Output:\n",
    "    - list of reviews for given artist. returns empty list if no reviews\n",
    "      exist for the artist, or if the artist is not in the db.\n",
    "    \n",
    "    \"\"\"\n",
    "    return mard_atr_dict[input_artist] if len(mard_atr_dict[input_artist]) > 0 else []"
   ]
  },
  {
   "cell_type": "code",
   "execution_count": 133,
   "id": "15177e9c",
   "metadata": {},
   "outputs": [],
   "source": [
    "def get_review_list(input_artist):\n",
    "    extended_list = get_mard_review(input_artist)\n",
    "    extended_list.extend(get_pf_review(input_artist))\n",
    "    return extended_list"
   ]
  },
  {
   "cell_type": "code",
   "execution_count": 164,
   "id": "5ab641ac",
   "metadata": {},
   "outputs": [
    {
     "data": {
      "text/html": [
       "<div>\n",
       "<style scoped>\n",
       "    .dataframe tbody tr th:only-of-type {\n",
       "        vertical-align: middle;\n",
       "    }\n",
       "\n",
       "    .dataframe tbody tr th {\n",
       "        vertical-align: top;\n",
       "    }\n",
       "\n",
       "    .dataframe thead th {\n",
       "        text-align: right;\n",
       "    }\n",
       "</style>\n",
       "<table border=\"1\" class=\"dataframe\">\n",
       "  <thead>\n",
       "    <tr style=\"text-align: right;\">\n",
       "      <th></th>\n",
       "      <th>title</th>\n",
       "      <th>artist</th>\n",
       "      <th>content</th>\n",
       "    </tr>\n",
       "  </thead>\n",
       "  <tbody>\n",
       "    <tr>\n",
       "      <th>0</th>\n",
       "      <td>mezzanine</td>\n",
       "      <td>massive attack</td>\n",
       "      <td>“Trip-hop” eventually became a ’90s punchline,...</td>\n",
       "    </tr>\n",
       "    <tr>\n",
       "      <th>1</th>\n",
       "      <td>prelapsarian</td>\n",
       "      <td>krallice</td>\n",
       "      <td>Eight years, five albums, and two EPs in, the ...</td>\n",
       "    </tr>\n",
       "    <tr>\n",
       "      <th>2</th>\n",
       "      <td>all of them naturals</td>\n",
       "      <td>uranium club</td>\n",
       "      <td>Minneapolis’ Uranium Club seem to revel in bei...</td>\n",
       "    </tr>\n",
       "    <tr>\n",
       "      <th>3</th>\n",
       "      <td>first songs</td>\n",
       "      <td>kleenex, liliput</td>\n",
       "      <td>Kleenex began with a crash. It transpired one ...</td>\n",
       "    </tr>\n",
       "    <tr>\n",
       "      <th>4</th>\n",
       "      <td>new start</td>\n",
       "      <td>taso</td>\n",
       "      <td>It is impossible to consider a given release b...</td>\n",
       "    </tr>\n",
       "    <tr>\n",
       "      <th>...</th>\n",
       "      <td>...</td>\n",
       "      <td>...</td>\n",
       "      <td>...</td>\n",
       "    </tr>\n",
       "    <tr>\n",
       "      <th>264449</th>\n",
       "      <td>Echo</td>\n",
       "      <td>After Jack</td>\n",
       "      <td>Something magical happens when these three lad...</td>\n",
       "    </tr>\n",
       "    <tr>\n",
       "      <th>264450</th>\n",
       "      <td>Let's Move the World</td>\n",
       "      <td>Lila Garrett &amp; Keaton Simons</td>\n",
       "      <td>Keaton is a brilliant singer, and he and Ms. G...</td>\n",
       "    </tr>\n",
       "    <tr>\n",
       "      <th>264451</th>\n",
       "      <td>Inside Llewyn Davis : Movie Soundtrack &amp; Other...</td>\n",
       "      <td>Ramblin' Jack Elliot, Joan Beaz,Andrew Rown Su...</td>\n",
       "      <td>A large varity of music, and groups I was not ...</td>\n",
       "    </tr>\n",
       "    <tr>\n",
       "      <th>264452</th>\n",
       "      <td>Inside Llewyn Davis : Movie Soundtrack &amp; Other...</td>\n",
       "      <td>Ramblin' Jack Elliot, Joan Beaz,Andrew Rown Su...</td>\n",
       "      <td>Good ole Ry Cooder. He must know every good mu...</td>\n",
       "    </tr>\n",
       "    <tr>\n",
       "      <th>264453</th>\n",
       "      <td>Inside Llewyn Davis : Movie Soundtrack &amp; Other...</td>\n",
       "      <td>Ramblin' Jack Elliot, Joan Beaz,Andrew Rown Su...</td>\n",
       "      <td>I saw the movie of the making of Llewyn Davis ...</td>\n",
       "    </tr>\n",
       "  </tbody>\n",
       "</table>\n",
       "<p>282855 rows × 3 columns</p>\n",
       "</div>"
      ],
      "text/plain": [
       "                                                    title  \\\n",
       "0                                               mezzanine   \n",
       "1                                            prelapsarian   \n",
       "2                                    all of them naturals   \n",
       "3                                             first songs   \n",
       "4                                               new start   \n",
       "...                                                   ...   \n",
       "264449                                               Echo   \n",
       "264450                               Let's Move the World   \n",
       "264451  Inside Llewyn Davis : Movie Soundtrack & Other...   \n",
       "264452  Inside Llewyn Davis : Movie Soundtrack & Other...   \n",
       "264453  Inside Llewyn Davis : Movie Soundtrack & Other...   \n",
       "\n",
       "                                                   artist  \\\n",
       "0                                          massive attack   \n",
       "1                                                krallice   \n",
       "2                                            uranium club   \n",
       "3                                        kleenex, liliput   \n",
       "4                                                    taso   \n",
       "...                                                   ...   \n",
       "264449                                         After Jack   \n",
       "264450                       Lila Garrett & Keaton Simons   \n",
       "264451  Ramblin' Jack Elliot, Joan Beaz,Andrew Rown Su...   \n",
       "264452  Ramblin' Jack Elliot, Joan Beaz,Andrew Rown Su...   \n",
       "264453  Ramblin' Jack Elliot, Joan Beaz,Andrew Rown Su...   \n",
       "\n",
       "                                                  content  \n",
       "0       “Trip-hop” eventually became a ’90s punchline,...  \n",
       "1       Eight years, five albums, and two EPs in, the ...  \n",
       "2       Minneapolis’ Uranium Club seem to revel in bei...  \n",
       "3       Kleenex began with a crash. It transpired one ...  \n",
       "4       It is impossible to consider a given release b...  \n",
       "...                                                   ...  \n",
       "264449  Something magical happens when these three lad...  \n",
       "264450  Keaton is a brilliant singer, and he and Ms. G...  \n",
       "264451  A large varity of music, and groups I was not ...  \n",
       "264452  Good ole Ry Cooder. He must know every good mu...  \n",
       "264453  I saw the movie of the making of Llewyn Davis ...  \n",
       "\n",
       "[282855 rows x 3 columns]"
      ]
     },
     "execution_count": 164,
     "metadata": {},
     "output_type": "execute_result"
    }
   ],
   "source": [
    "pd.concat([pf_reviews_df, mard_combined_dataframe]).drop(columns=[\"score\"])"
   ]
  },
  {
   "cell_type": "code",
   "execution_count": 153,
   "id": "c59044a4",
   "metadata": {},
   "outputs": [
    {
     "name": "stdout",
     "output_type": "stream",
     "text": [
      "Avg: 9.068257123923129\n",
      "Median: 4.0\n",
      "Max: 52\n"
     ]
    }
   ],
   "source": [
    "combined_revs = np.array([ len(get_review_list(a)) if a else 0 for a in ALL_ARTISTS ])\n",
    "print('Avg:', np.average(combined_revs))\n",
    "print('Median:', np.median(combined_revs))\n",
    "print('Max:', np.max(combined_revs))"
   ]
  },
  {
   "cell_type": "code",
   "execution_count": 157,
   "id": "1727add7",
   "metadata": {},
   "outputs": [
    {
     "data": {
      "image/png": "[encoded data removed]",
      "text/plain": [
       "<Figure size 432x288 with 1 Axes>"
      ]
     },
     "metadata": {
      "needs_background": "light"
     },
     "output_type": "display_data"
    }
   ],
   "source": [
    "plt.hist(combined_revs, 20)\n",
    "plt.title('Distribution of number of reviews for each artist')\n",
    "plt.show()"
   ]
  },
  {
   "cell_type": "code",
   "execution_count": 160,
   "id": "dfd5977b",
   "metadata": {},
   "outputs": [
    {
     "name": "stdout",
     "output_type": "stream",
     "text": [
      "Maximum reviews: THE BEATLES\n",
      "Minimum reviews: METRO BOOMIN\n"
     ]
    }
   ],
   "source": [
    "print(\"Maximum reviews:\", ALL_ARTISTS[np.argmax(combined_revs)])\n",
    "print(\"Minimum reviews:\", ALL_ARTISTS[np.argmin(combined_revs)])"
   ]
  },
  {
   "cell_type": "code",
   "execution_count": 162,
   "id": "b8273b2f",
   "metadata": {},
   "outputs": [
    {
     "data": {
      "text/plain": [
       "1500"
      ]
     },
     "execution_count": 162,
     "metadata": {},
     "output_type": "execute_result"
    }
   ],
   "source": [
    "len(np.argwhere(combined_revs>0))"
   ]
  },
  {
   "cell_type": "code",
   "execution_count": null,
   "id": "cd7d59e0",
   "metadata": {},
   "outputs": [],
   "source": []
  }
 ],
 "metadata": {
  "kernelspec": {
   "display_name": "singerenv",
   "language": "python",
   "name": "singerenv"
  },
  "language_info": {
   "codemirror_mode": {
    "name": "ipython",
    "version": 3
   },
   "file_extension": ".py",
   "mimetype": "text/x-python",
   "name": "python",
   "nbconvert_exporter": "python",
   "pygments_lexer": "ipython3",
   "version": "3.7.6"
  }
 },
 "nbformat": 4,
 "nbformat_minor": 5
}
