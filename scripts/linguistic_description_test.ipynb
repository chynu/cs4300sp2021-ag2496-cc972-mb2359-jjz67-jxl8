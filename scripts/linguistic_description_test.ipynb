{
 "cells": [
  {
   "cell_type": "markdown",
   "id": "d71463ac",
   "metadata": {},
   "source": [
    "# Linguistic Description of Songs\n",
    "\n",
    "Exploring how we can deduce song genres or narrow down artists from a user-inputted linguistic description.\n",
    "\n",
    "Columns afforded by the Kaggle dataset:\n",
    " - acousticness\n",
    " - artists\n",
    " - danceability\n",
    " - duration_ms\n",
    " - energy\n",
    " - explicit\n",
    " - id\n",
    " - instrumentalness\n",
    " - key\n",
    " - liveness\n",
    " - loudness\n",
    " - mode\n",
    " - name\n",
    " - popularity\n",
    " - release_date\n",
    " - speechiness\n",
    " - tempo\n",
    " - valence\n",
    " - year"
   ]
  },
  {
   "cell_type": "code",
   "execution_count": 51,
   "id": "3a270a55",
   "metadata": {},
   "outputs": [],
   "source": [
    "import nltk\n",
    "import json\n",
    "import numpy as np\n",
    "from nltk.tokenize import word_tokenize\n",
    "from nltk.corpus import stopwords\n",
    "from sklearn.feature_extraction.text import TfidfVectorizer, CountVectorizer"
   ]
  },
  {
   "cell_type": "code",
   "execution_count": 35,
   "id": "3fecdd39",
   "metadata": {},
   "outputs": [],
   "source": [
    "def read_mard_json(input_filename):\n",
    "    loaded_data_ = []\n",
    "    with open(input_filename, 'r') as file_:\n",
    "        loaded_string_ = file_.read()\n",
    "        loaded_data_ = [json.loads(s) for s in loaded_string_.split('\\n') if s is not None and len(s) > 0]\n",
    "        file_.close()\n",
    "    return loaded_data_"
   ]
  },
  {
   "cell_type": "code",
   "execution_count": 37,
   "id": "ff638a14",
   "metadata": {},
   "outputs": [],
   "source": [
    "# Loading Metadata\n",
    "mard_metadata = read_mard_json('raw/mard_reviews/mard_metadata.json')\n",
    "    \n",
    "# Loading Reviews\n",
    "mard_reviews = read_mard_json('raw/mard_reviews/mard_reviews.json')"
   ]
  },
  {
   "cell_type": "code",
   "execution_count": 47,
   "id": "eef68799",
   "metadata": {
    "scrolled": false
   },
   "outputs": [
    {
     "name": "stdout",
     "output_type": "stream",
     "text": [
      "METADATA KEYS\n",
      "artist\n",
      "label\n",
      "brand\n",
      "imUrl\n",
      "root-genre\n",
      "artist-mbid\n",
      "salesRank\n",
      "artist_url\n",
      "related\n",
      "release-mbid\n",
      "title\n",
      "amazon-id\n",
      "first-release-year\n",
      "songs\n",
      "release-group-mbid\n",
      "confidence\n",
      "categories\n",
      "price\n",
      "\n",
      "\n",
      "REVIEWS KEYS\n",
      "helpful\n",
      "reviewerID\n",
      "reviewText\n",
      "reviewTime\n",
      "summary\n",
      "overall\n",
      "unixReviewTime\n",
      "amazon-id\n",
      "reviewerName\n"
     ]
    }
   ],
   "source": [
    "all_md_keys = set([])\n",
    "all_rev_keys = set([])\n",
    "\n",
    "for row in mard_metadata:\n",
    "    all_md_keys.update(list(row.keys()))\n",
    "for row in mard_reviews:\n",
    "    all_rev_keys.update(list(row.keys()))\n",
    "\n",
    "all_md_keys = list(all_md_keys)\n",
    "all_rev_keys = list(all_rev_keys)\n",
    "\n",
    "print('METADATA KEYS')\n",
    "print('\\n'.join(all_md_keys))\n",
    "print()\n",
    "print()\n",
    "print('REVIEWS KEYS')\n",
    "print('\\n'.join(all_rev_keys))"
   ]
  },
  {
   "cell_type": "code",
   "execution_count": 49,
   "id": "bb142f4f",
   "metadata": {
    "scrolled": true
   },
   "outputs": [
    {
     "name": "stdout",
     "output_type": "stream",
     "text": [
      "Buy this album. Now.  Don't worry about the reviews.  If you love pure, honest music buy this album....you will not be let down.\n",
      "\n",
      "The Sudden Passion did a great job with this one. The lyrics are witty, with just the right amount of twang.  This is a whiskey-soaked indie rock jam that captures the soul of modern americana!\n",
      "\n",
      "I received this CD as a gift a few weeks ago from a friend. I was a bit skeptical at first but decided to try it anyway. This CD is great! The first two tracks talk you through how to use the CD and give you great techniques for breathing. I like track 3 because it's only 10 minutes which helps a lot with my busy schedule. It's already helped me sleep better and feel better during the day. Highly recommended!\n",
      "\n",
      "I am a beginner and have tried a couple of meditation CDs on the market but have disliked them due to poor audio quality and all the Far East philosophy they try to get you to buy into. I simply wanted a quick way to get started meditating so that I could relieve my stress after a long day. This CD has been a blessing as it is easy to understand and benefit from. The music and the sound effects help me regulate my breathing and synchronize to the guided meditations. I highly recommend this for anybody looking to improve their quality of life and mental focus and don't want to spend a lot of money or have to subscribe to complicated spiritual values from India or China.  I had my wife try it and she loves it. Now we meditate together and it has brought us closer and even increased passion in our relationship. I will give this as gifts as the price is great for the life-improving benefits it provides. This is a CD for everyone!\n",
      "\n",
      "This is coming from a person that didn't believe that mediation helped anyone. I was given this tape from a friend, and it took me a week before I even opened it. From the very first time I listened to it, I was like \"WOW\"!! I have lived with anxiety and panics for 20 years and now anytime I need to just calm my mind and be in total relaxation I do the 10 min. part of the CD. It is truly amazing how it helps me be relaxed, confident, and in total peace. I have been truly blessed by the CD, and by the friend that introduced it to me! This is one of the greatest life changing gifts I have ever received.\n",
      "\n",
      "This is a fantastic meditation CD.  Have you ever said to yourself, \"Why can't they make a meditation CD that has all of the elements I am looking for?\"  Well, this one has it all.  The 9 minute introduction explains the meditation process and its uses to those that are new to meditation, but I think it's quite useful for more seasoned meditators as well.  The first 10 minute meditation gives you \"cues\" to enhance the meditation experience as you form your own routine.  Next, there is a 10 minute meditation without the  verbal cues--this is a perfect length for me to use in the morning before work when I am pressed for time.  Next, there is a 20 minute meditation without the verbal cues--this is the perfect length for unwinding before going to sleep at night.  Focusing on your breathing and the Tibetan horn \"OM\" sound is a great way to clear the mind.  This meditation allows you to create that \"space\" that allows you to develop the channel with your unconscious mind and the universe to attract the life you want.  I am so happy to have found this CD and I am using it every day.  I just bought one for my friend and am recommending it to everyone I know. Buy it--you will NOT be disappointed.Thank you so much, Michael Midkiff! :-)\n",
      "\n",
      "One of the things I liked best about this CD, is that it teaches you how to meditate in just a few minutes a day. I have a full time job and am a full time student, both of which cause a lot of stress in my daily life. But with this method, I learned how to take just a few minutes out of my busy day, and calm my mind so that I can complete my activities with a clear mental state. The introduction is very helpful, because it reassures the listener that they don't need to make a big production about meditation, and that they can do it wherever they are most comfortable. I would reccomend this product to anyone who needs a little assistance getting the clutter out of their minds so that they can work, play or even sleep more easily.\n",
      "\n",
      "The sound of \"OM\" creates serenity, it helps you relax and come to a place where you feel love, peace and joy.  There are not many meditation CDs that use this unique method.  This CD's OM chants and sound effects have consistent rhythm therefore there is not much distraction.  The producer's introduction is helpful and engaging because it not only includes instruction but some background of his own experience which helps reduce a beginner's resistance to the process.\n",
      "\n",
      "Is this an April Fool's joke played a few months after the fact?An album with nothing but single piano chords?\n",
      "\n",
      "Mu Friend loved the book that I got him for his birthday.  Great book for all Elementary Educators.\n",
      "\n"
     ]
    }
   ],
   "source": [
    "for row in mard_reviews[:10]:\n",
    "    print(row['reviewText'])\n",
    "    print()"
   ]
  },
  {
   "cell_type": "code",
   "execution_count": 56,
   "id": "2f331a6a",
   "metadata": {},
   "outputs": [],
   "source": [
    "reviews_list = []\n",
    "vectorizer = TfidfVectorizer(analyzer='word', stop_words={'english'})\n",
    "\n",
    "for i,row in enumerate(mard_reviews):\n",
    "    reviews_list.append(row['reviewText'])\n",
    "\n",
    "tfidf_mtx = vectorizer.fit_transform(reviews_list)"
   ]
  },
  {
   "cell_type": "code",
   "execution_count": 57,
   "id": "fec29df8",
   "metadata": {},
   "outputs": [
    {
     "data": {
      "text/plain": [
       "(263525, 311696)"
      ]
     },
     "execution_count": 57,
     "metadata": {},
     "output_type": "execute_result"
    }
   ],
   "source": [
    "tfidf_mtx.shape"
   ]
  },
  {
   "cell_type": "code",
   "execution_count": null,
   "id": "37cee341",
   "metadata": {},
   "outputs": [],
   "source": []
  }
 ],
 "metadata": {
  "kernelspec": {
   "display_name": "cs4300-env",
   "language": "python",
   "name": "cs4300-env"
  },
  "language_info": {
   "codemirror_mode": {
    "name": "ipython",
    "version": 3
   },
   "file_extension": ".py",
   "mimetype": "text/x-python",
   "name": "python",
   "nbconvert_exporter": "python",
   "pygments_lexer": "ipython3",
   "version": "3.7.6"
  }
 },
 "nbformat": 4,
 "nbformat_minor": 5
}
