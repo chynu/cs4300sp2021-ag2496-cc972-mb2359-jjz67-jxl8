{
 "cells": [
  {
   "cell_type": "code",
   "execution_count": 2,
   "metadata": {},
   "outputs": [
    {
     "name": "stdout",
     "output_type": "stream",
     "text": [
      "WARNING: pip is being invoked by an old script wrapper. This will fail in a future version of pip.\n",
      "Please see https://github.com/pypa/pip/issues/5599 for advice on fixing the underlying issue.\n",
      "To avoid this problem you can invoke Python with '-m pip' instead of running pip directly.\n",
      "Collecting pandas\n",
      "  Using cached pandas-1.2.3-cp37-cp37m-macosx_10_9_x86_64.whl (10.4 MB)\n",
      "Requirement already satisfied: pytz>=2017.3 in /Users/emilygao/cs4300-env/lib/python3.7/site-packages (from pandas) (2017.3)\n",
      "Collecting python-dateutil>=2.7.3\n",
      "  Using cached python_dateutil-2.8.1-py2.py3-none-any.whl (227 kB)\n",
      "Requirement already satisfied: numpy>=1.16.5 in /Users/emilygao/cs4300-env/lib/python3.7/site-packages (from pandas) (1.18.1)\n",
      "Requirement already satisfied: six>=1.5 in /Users/emilygao/cs4300-env/lib/python3.7/site-packages (from python-dateutil>=2.7.3->pandas) (1.11.0)\n",
      "Installing collected packages: python-dateutil, pandas\n",
      "  Attempting uninstall: python-dateutil\n",
      "    Found existing installation: python-dateutil 2.6.1\n",
      "    Uninstalling python-dateutil-2.6.1:\n",
      "      Successfully uninstalled python-dateutil-2.6.1\n",
      "Successfully installed pandas-1.2.3 python-dateutil-2.8.1\n"
     ]
    }
   ],
   "source": [
    "!python -m pip install pandas"
   ]
  },
  {
   "cell_type": "code",
   "execution_count": 3,
   "metadata": {},
   "outputs": [],
   "source": [
    "import numpy as np\n",
    "import pandas as pd\n",
    "import matplotlib.pyplot as plt\n",
    "%matplotlib inline"
   ]
  },
  {
   "cell_type": "code",
   "execution_count": 5,
   "metadata": {},
   "outputs": [],
   "source": [
    "df = pd.read_csv('artist_to_word_count.csv', delimiter=',')"
   ]
  },
  {
   "cell_type": "code",
   "execution_count": 6,
   "metadata": {},
   "outputs": [
    {
     "name": "stdout",
     "output_type": "stream",
     "text": [
      "                            name     i   the   you    to   and     a    me  \\\n",
      "0                Lena Philipsson  23.0   5.0  13.0  10.0   4.0   9.0   1.0   \n",
      "1                   Shawn Colvin   0.0  36.0  25.0   2.0   8.0   2.0   1.0   \n",
      "2                    Dying Fetus   0.0  10.0   1.0   2.0   1.0   0.0   0.0   \n",
      "3                          Emery  20.0   8.0  15.0   4.0   5.0   6.0   2.0   \n",
      "4            Rev. Timothy Wright  24.0   1.0  15.0   4.0   4.0   0.0   4.0   \n",
      "...                          ...   ...   ...   ...   ...   ...   ...   ...   \n",
      "11223     Mobb Deep / Young Buck  18.0  18.0  41.0  21.0   8.0   7.0  23.0   \n",
      "11224  Roger Joseph Manning_ Jr.  10.0   6.0  14.0   7.0   6.0   3.0   4.0   \n",
      "11225                       Spek  11.0  14.0  31.0  11.0  12.0  28.0   1.0   \n",
      "11226                   Booker T  11.0  17.0  36.0   5.0   2.0   7.0   3.0   \n",
      "11227            Pancho's Lament   1.0  12.0   3.0   2.0   2.0   3.0   0.0   \n",
      "\n",
      "         it   not  ...  writer  motivo  bake  insist  wel  santo   pe  gee  \\\n",
      "0       4.0   4.0  ...     0.0     0.0   0.0     0.0  0.0    0.0  0.0  0.0   \n",
      "1       6.0   0.0  ...     0.0     0.0   0.0     0.0  0.0    0.0  0.0  0.0   \n",
      "2       0.0   1.0  ...     0.0     0.0   0.0     0.0  0.0    0.0  0.0  0.0   \n",
      "3       9.0  12.0  ...     0.0     0.0   0.0     0.0  0.0    0.0  0.0  0.0   \n",
      "4      12.0   0.0  ...     0.0     0.0   0.0     0.0  0.0    0.0  0.0  0.0   \n",
      "...     ...   ...  ...     ...     ...   ...     ...  ...    ...  ...  ...   \n",
      "11223  38.0   9.0  ...     0.0     0.0   0.0     0.0  0.0    0.0  0.0  0.0   \n",
      "11224   7.0   5.0  ...     0.0     0.0   0.0     0.0  0.0    0.0  0.0  0.0   \n",
      "11225   2.0   3.0  ...     0.0     0.0   0.0     0.0  0.0    0.0  0.0  0.0   \n",
      "11226  40.0   6.0  ...     0.0     0.0   0.0     0.0  0.0    0.0  0.0  0.0   \n",
      "11227   3.0   8.0  ...     0.0     0.0   0.0     0.0  0.0    0.0  0.0  0.0   \n",
      "\n",
      "       colleg  kad  \n",
      "0         0.0  0.0  \n",
      "1         0.0  0.0  \n",
      "2         0.0  0.0  \n",
      "3         0.0  0.0  \n",
      "4         0.0  0.0  \n",
      "...       ...  ...  \n",
      "11223     0.0  0.0  \n",
      "11224     0.0  0.0  \n",
      "11225     0.0  0.0  \n",
      "11226     0.0  0.0  \n",
      "11227     0.0  0.0  \n",
      "\n",
      "[11228 rows x 5001 columns]\n"
     ]
    }
   ],
   "source": [
    "print(df)"
   ]
  },
  {
   "cell_type": "code",
   "execution_count": null,
   "metadata": {},
   "outputs": [],
   "source": []
  }
 ],
 "metadata": {
  "kernelspec": {
   "display_name": "cs4300-env",
   "language": "python",
   "name": "cs4300-env"
  },
  "language_info": {
   "codemirror_mode": {
    "name": "ipython",
    "version": 3
   },
   "file_extension": ".py",
   "mimetype": "text/x-python",
   "name": "python",
   "nbconvert_exporter": "python",
   "pygments_lexer": "ipython3",
   "version": "3.7.6"
  }
 },
 "nbformat": 4,
 "nbformat_minor": 4
}
