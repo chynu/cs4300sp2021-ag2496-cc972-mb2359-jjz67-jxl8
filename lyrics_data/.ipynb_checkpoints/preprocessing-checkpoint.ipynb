{
 "cells": [
  {
   "cell_type": "code",
   "execution_count": 16,
   "metadata": {},
   "outputs": [],
   "source": [
    "import numpy as np\n",
    "import csv\n",
    "import re"
   ]
  },
  {
   "cell_type": "code",
   "execution_count": 3,
   "metadata": {},
   "outputs": [],
   "source": [
    "artist_id_file = open(\"mxm_779k_matches.txt\")\n",
    "msd_name_to_mxm = {} # map MSD artist name to MXM artist name\n",
    "artist_name_to_tracks = {} # map MSD artist name to list of (MSD, MXM track IDs)\n",
    "\n",
    "lines = artist_id_file.readlines()\n",
    "for line in lines:\n",
    "    if line[0] == '#':\n",
    "        continue\n",
    "    terms = re.split('<SEP>', line.rstrip())\n",
    "    # we know each line is formatted as such:\n",
    "    # tid|artist name|title|mxm tid|artist_name|title\n",
    "    msd_name_to_mxm[terms[1]] = terms[4]\n",
    "    if terms[1] in artist_name_to_tracks:\n",
    "        artist_name_to_tracks[terms[1]] += (terms[0], terms[3])\n",
    "    else:\n",
    "        artist_name_to_tracks[terms[1]] = [(terms[0], terms[3])]\n",
    "    \n",
    "artist_id_file.close()"
   ]
  },
  {
   "cell_type": "code",
   "execution_count": 4,
   "metadata": {},
   "outputs": [
    {
     "name": "stdout",
     "output_type": "stream",
     "text": [
      "[('TRGQFGC12903D0612A', '5480231'), 'TRRRDQK128F4240B88', '4610816', 'TRQSFVW128F93517D6', '6490445', 'TRNEUCT128F14A5161', '1505921', 'TRYWTDN12903CC1EC3', '9209890']\n"
     ]
    }
   ],
   "source": [
    "print(artist_name_to_tracks['Beyonce'])"
   ]
  },
  {
   "cell_type": "code",
   "execution_count": 5,
   "metadata": {},
   "outputs": [],
   "source": [
    "def construct_track_to_words(lines):\n",
    "    track_to_words = {} # maps MSD track ID to np.array of word counts, indexed by all_words\n",
    "    all_words = []\n",
    "    for line in lines:\n",
    "        if line[0] == '#':\n",
    "            continue\n",
    "        if line[0] == '%':\n",
    "            all_words = re.split(',', line[1:].rstrip())\n",
    "            continue\n",
    "        content = re.split(',', line.rstrip())\n",
    "        # know that lines are formatted as TID,MXMID,idx:cnt,idx:cnt,...\n",
    "        word_counts = np.zeros(len(all_words))\n",
    "        for term in content[2:]:\n",
    "            index, count = re.split(':', term)\n",
    "            index, count = int(index), int(count)\n",
    "            word_counts[index-1] = count\n",
    "        track_to_words[content[0]] = word_counts\n",
    "    return all_words, track_to_words"
   ]
  },
  {
   "cell_type": "code",
   "execution_count": 6,
   "metadata": {},
   "outputs": [],
   "source": [
    "words_dataset = open(\"mxm_dataset_train.txt\")\n",
    "lines = words_dataset.readlines()\n",
    "all_words, track_to_words = construct_track_to_words(lines)\n",
    "words_dataset.close()"
   ]
  },
  {
   "cell_type": "code",
   "execution_count": 7,
   "metadata": {},
   "outputs": [],
   "source": [
    "words_dataset = open(\"mxm_dataset_test.txt\")\n",
    "lines = words_dataset.readlines()\n",
    "output = construct_track_to_words(lines)\n",
    "words_dataset.close()"
   ]
  },
  {
   "cell_type": "code",
   "execution_count": 8,
   "metadata": {},
   "outputs": [
    {
     "name": "stdout",
     "output_type": "stream",
     "text": [
      "210519\n",
      "237662\n"
     ]
    }
   ],
   "source": [
    "print(len(track_to_words))\n",
    "track_to_words.update(output[1])\n",
    "print(len(track_to_words))"
   ]
  },
  {
   "cell_type": "code",
   "execution_count": 9,
   "metadata": {},
   "outputs": [],
   "source": [
    "artist_name_to_word_count = {} # maps MSD artist name to np array of word count\n",
    "\n",
    "for artist in artist_name_to_tracks:\n",
    "    word_counts = np.zeros(len(all_words))\n",
    "    for track_id in artist_name_to_tracks[artist]:\n",
    "        track_id = track_id[0]\n",
    "        if track_id in track_to_words:\n",
    "            word_counts += track_to_words[track_id]\n",
    "    artist_name_to_word_count[artist] = word_counts"
   ]
  },
  {
   "cell_type": "code",
   "execution_count": 10,
   "metadata": {},
   "outputs": [],
   "source": [
    "artists_in_dataset = [name for name in artist_name_to_word_count if np.any(artist_name_to_word_count[name])]"
   ]
  },
  {
   "cell_type": "code",
   "execution_count": 11,
   "metadata": {},
   "outputs": [
    {
     "name": "stdout",
     "output_type": "stream",
     "text": [
      "11228\n",
      "52313\n"
     ]
    }
   ],
   "source": [
    "print(len(artists_in_dataset))\n",
    "print(len(artist_name_to_word_count))"
   ]
  },
  {
   "cell_type": "code",
   "execution_count": 14,
   "metadata": {},
   "outputs": [],
   "source": [
    "filename = \"artist_to_word_count.csv\"\n",
    "with open(filename, 'w') as csvfile: \n",
    "    # creating a csv writer object \n",
    "    csvwriter = csv.writer(csvfile) \n",
    "        \n",
    "    # writing the fields \n",
    "    csvwriter.writerow(['name'] + all_words) \n",
    "        \n",
    "    # writing the data rows \n",
    "    for name in artists_in_dataset:\n",
    "        csvwriter.writerow([name] + list(artist_name_to_word_count[name]))"
   ]
  },
  {
   "cell_type": "code",
   "execution_count": null,
   "metadata": {},
   "outputs": [],
   "source": []
  }
 ],
 "metadata": {
  "kernelspec": {
   "display_name": "cs4300-env",
   "language": "python",
   "name": "cs4300-env"
  },
  "language_info": {
   "codemirror_mode": {
    "name": "ipython",
    "version": 3
   },
   "file_extension": ".py",
   "mimetype": "text/x-python",
   "name": "python",
   "nbconvert_exporter": "python",
   "pygments_lexer": "ipython3",
   "version": "3.7.6"
  }
 },
 "nbformat": 4,
 "nbformat_minor": 4
}
