{
 "cells": [
  {
   "cell_type": "code",
   "execution_count": 1,
   "metadata": {},
   "outputs": [],
   "source": [
    "from sklearn.feature_extraction.text import TfidfVectorizer\n",
    "import numpy as np\n",
    "import json\n",
    "%matplotlib inline\n",
    "import matplotlib.pyplot as plt"
   ]
  },
  {
   "cell_type": "code",
   "execution_count": 3,
   "metadata": {},
   "outputs": [],
   "source": [
    "import os\n",
    "import sys\n",
    "import time\n",
    "import glob\n",
    "import datetime\n",
    "import sqlite3\n",
    "\n",
    "import re"
   ]
  },
  {
   "cell_type": "code",
   "execution_count": 28,
   "metadata": {},
   "outputs": [],
   "source": [
    "artist_id_file = open(\"mxm_779k_matches.txt\")\n",
    "msd_name_to_mxm = {} # map MSD artist name to MXM artist name\n",
    "artist_name_to_tracks = {} # map MSD artist name to list of (MSD, MXM track IDs)\n",
    "\n",
    "lines = artist_id_file.readlines()\n",
    "for line in lines:\n",
    "    if line[0] == '#':\n",
    "        continue\n",
    "    terms = re.split('<SEP>', line.rstrip())\n",
    "    # we know each line is formatted as such:\n",
    "    # tid|artist name|title|mxm tid|artist_name|title\n",
    "    msd_name_to_mxm[terms[1]] = terms[4]\n",
    "    if terms[1] in artist_name_to_tracks:\n",
    "        artist_name_to_tracks[terms[1]] += (terms[0], terms[3])\n",
    "    else:\n",
    "        artist_name_to_tracks[terms[1]] = [(terms[0], terms[3])]\n",
    "    \n",
    "artist_id_file.close()"
   ]
  },
  {
   "cell_type": "code",
   "execution_count": 30,
   "metadata": {},
   "outputs": [
    {
     "name": "stdout",
     "output_type": "stream",
     "text": [
      "[('TRGQFGC12903D0612A', '5480231'), 'TRRRDQK128F4240B88', '4610816', 'TRQSFVW128F93517D6', '6490445', 'TRNEUCT128F14A5161', '1505921', 'TRYWTDN12903CC1EC3', '9209890']\n"
     ]
    }
   ],
   "source": [
    "print(artist_name_to_tracks['Beyonce'])"
   ]
  },
  {
   "cell_type": "code",
   "execution_count": 34,
   "metadata": {},
   "outputs": [],
   "source": [
    "words_dataset = open(\"mxm_dataset_train.txt\")\n",
    "all_words = []\n",
    "track_to_words = {} # maps MSD track ID to np.array of word counts, indexed by all_words\n",
    "\n",
    "lines = words_dataset.readlines()\n",
    "for line in lines:\n",
    "    if line[0] == '#':\n",
    "        continue\n",
    "    if line[0] == '%':\n",
    "        all_words = re.split(',', line[1:].rstrip())\n",
    "        continue\n",
    "    content = re.split(',', line.rstrip())\n",
    "    # know that lines are formatted as TID,MXMID,idx:cnt,idx:cnt,...\n",
    "    word_counts = np.zeros(len(all_words))\n",
    "    for term in content[2:]:\n",
    "        index, count = re.split(':', term)\n",
    "        index, count = int(index), int(count)\n",
    "        word_counts[index-1] = count\n",
    "    track_to_words[content[0]] = word_counts\n",
    "\n",
    "words_dataset.close()"
   ]
  },
  {
   "cell_type": "code",
   "execution_count": 36,
   "metadata": {},
   "outputs": [
    {
     "name": "stdout",
     "output_type": "stream",
     "text": [
      "[0. 0. 0. ... 0. 0. 0.]\n"
     ]
    }
   ],
   "source": [
    "print(track_to_words['TRAAAGF12903CEC202'])"
   ]
  },
  {
   "cell_type": "code",
   "execution_count": null,
   "metadata": {},
   "outputs": [],
   "source": [
    "artist_name_to_word_count = {} # maps MSD artist name to np array of word count\n",
    "\n",
    "for artist in artist_name_to_tracks:\n",
    "    word_counts = np.zeros(len(all_words))\n",
    "    for track_id, _ in artist_name_to_tracks[artist]:\n",
    "        word_counts += track_to_words[track_id]\n",
    "    artist_name_to_word_count[artist] = word_counts"
   ]
  }
 ],
 "metadata": {
  "kernelspec": {
   "display_name": "cs4300-env",
   "language": "python",
   "name": "cs4300-env"
  },
  "language_info": {
   "codemirror_mode": {
    "name": "ipython",
    "version": 3
   },
   "file_extension": ".py",
   "mimetype": "text/x-python",
   "name": "python",
   "nbconvert_exporter": "python",
   "pygments_lexer": "ipython3",
   "version": "3.7.6"
  }
 },
 "nbformat": 4,
 "nbformat_minor": 4
}
